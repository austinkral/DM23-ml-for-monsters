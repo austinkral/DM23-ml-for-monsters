{
 "cells": [
  {
   "cell_type": "code",
   "execution_count": 2,
   "id": "bd84b04b",
   "metadata": {},
   "outputs": [],
   "source": [
    "# Load Data\n",
    "import torch\n",
    "import torch.nn as nn\n",
    "from torch import optim\n",
    "import numpy as np\n",
    "import random\n",
    "import gensim.downloader as api\n",
    "import pandas as pd\n"
   ]
  },
  {
   "cell_type": "markdown",
   "id": "232076f8",
   "metadata": {},
   "source": [
    "# The Task: 'Toxicity' Modeling\n",
    "\n",
    "In 2016 Google published a Kaggle competition called 'toxic comments', offering a prize to the user who could make the best model for predicting whether a given comment was toxic.\n",
    "\n",
    "https://www.kaggle.com/c/jigsaw-toxic-comment-classification-challenge\n",
    "\n",
    "By offering a prize for the best model, google employed a shadow labor force of skilled workers---over 5000 submissions to date. \n",
    "\n",
    "kaggle is a good place to look for datasets. \n",
    "\n",
    "The data comes from Wikipedia talk pages. "
   ]
  },
  {
   "cell_type": "markdown",
   "id": "09b79a13",
   "metadata": {},
   "source": [
    "This dataset is already stored in huggingface: \n",
    "    https://huggingface.co/datasets"
   ]
  },
  {
   "cell_type": "code",
   "execution_count": 5,
   "id": "3cf06e69",
   "metadata": {},
   "outputs": [
    {
     "data": {
      "application/vnd.jupyter.widget-view+json": {
       "model_id": "0cfe4958fc0c4cc692aab6b1191a41ed",
       "version_major": 2,
       "version_minor": 0
      },
      "text/plain": [
       "Generating train split:   0%|          | 0/159571 [00:00<?, ? examples/s]"
      ]
     },
     "metadata": {},
     "output_type": "display_data"
    },
    {
     "data": {
      "application/vnd.jupyter.widget-view+json": {
       "model_id": "164ed67214bf41e5913c230f7e725fbb",
       "version_major": 2,
       "version_minor": 0
      },
      "text/plain": [
       "Generating test split:   0%|          | 0/63978 [00:00<?, ? examples/s]"
      ]
     },
     "metadata": {},
     "output_type": "display_data"
    }
   ],
   "source": [
    "from datasets import load_dataset\n",
    "\n",
    "dataset = load_dataset(\"jigsaw_toxicity_pred\", data_dir='../data/jigsaw-toxic-comment-classification-challenge/')\n"
   ]
  },
  {
   "cell_type": "markdown",
   "id": "d58f66e0",
   "metadata": {},
   "source": [
    "Some examples labeled toxic."
   ]
  },
  {
   "cell_type": "markdown",
   "id": "6649e7f2",
   "metadata": {},
   "source": [
    "# Exploratory Data Analysis\n",
    "## Let's examine our data."
   ]
  },
  {
   "cell_type": "markdown",
   "id": "a42be4f0",
   "metadata": {},
   "source": [
    "the data get returned to us as a Dataset object. ie an instance of the huggingface Datasets class. To see what you can do see the documentation here: https://huggingface.co/datasets"
   ]
  },
  {
   "cell_type": "markdown",
   "id": "9e72b2f9",
   "metadata": {},
   "source": [
    "in the huggingface datasets library, a split is a specific subset of a dataset like train and test. List a dataset’s split names with the get_dataset_split_names() function. This data is already segmented for us"
   ]
  },
  {
   "cell_type": "code",
   "execution_count": 6,
   "id": "dac579f0",
   "metadata": {},
   "outputs": [
    {
     "data": {
      "text/plain": [
       "['train', 'test']"
      ]
     },
     "execution_count": 6,
     "metadata": {},
     "output_type": "execute_result"
    }
   ],
   "source": [
    "from datasets import get_dataset_split_names\n",
    "\n",
    "get_dataset_split_names(\"jigsaw_toxicity_pred\")\n"
   ]
  },
  {
   "cell_type": "markdown",
   "id": "5c1d6ab3",
   "metadata": {},
   "source": [
    "let's look at the first entry in the train split"
   ]
  },
  {
   "cell_type": "code",
   "execution_count": 7,
   "id": "38a1d106",
   "metadata": {},
   "outputs": [
    {
     "data": {
      "text/plain": [
       "{'comment_text': \"Explanation\\nWhy the edits made under my username Hardcore Metallica Fan were reverted? They weren't vandalisms, just closure on some GAs after I voted at New York Dolls FAC. And please don't remove the template from the talk page since I'm retired now.89.205.38.27\",\n",
       " 'toxic': 0,\n",
       " 'severe_toxic': 0,\n",
       " 'obscene': 0,\n",
       " 'threat': 0,\n",
       " 'insult': 0,\n",
       " 'identity_hate': 0}"
      ]
     },
     "execution_count": 7,
     "metadata": {},
     "output_type": "execute_result"
    }
   ],
   "source": [
    "# let's look at just train\n",
    "train = dataset['train']\n",
    "\n",
    "# Get the first row in the train set. \n",
    "train[0] #"
   ]
  },
  {
   "cell_type": "markdown",
   "id": "6534e5ce",
   "metadata": {},
   "source": [
    "Use the - operator to start from the end of the dataset:"
   ]
  },
  {
   "cell_type": "code",
   "execution_count": 8,
   "id": "1745971e",
   "metadata": {},
   "outputs": [
    {
     "data": {
      "text/plain": [
       "{'comment_text': '\"\\nAnd ... I really don\\'t think you understand.  I came here and my idea was bad right away.  What kind of community goes \"\"you have bad ideas\"\" go away, instead of helping rewrite them.   \"',\n",
       " 'toxic': 0,\n",
       " 'severe_toxic': 0,\n",
       " 'obscene': 0,\n",
       " 'threat': 0,\n",
       " 'insult': 0,\n",
       " 'identity_hate': 0}"
      ]
     },
     "execution_count": 8,
     "metadata": {},
     "output_type": "execute_result"
    }
   ],
   "source": [
    "# Get the last row in the train set\n",
    "\n",
    "train[-1]"
   ]
  },
  {
   "cell_type": "markdown",
   "id": "b0afaa15",
   "metadata": {},
   "source": [
    "Indexing by the column name returns a list of all the values in the column:"
   ]
  },
  {
   "cell_type": "code",
   "execution_count": 9,
   "id": "18a63df8",
   "metadata": {},
   "outputs": [
    {
     "data": {
      "text/plain": [
       "\"Explanation\\nWhy the edits made under my username Hardcore Metallica Fan were reverted? They weren't vandalisms, just closure on some GAs after I voted at New York Dolls FAC. And please don't remove the template from the talk page since I'm retired now.89.205.38.27\""
      ]
     },
     "execution_count": 9,
     "metadata": {},
     "output_type": "execute_result"
    }
   ],
   "source": [
    "train[\"comment_text\"][0]"
   ]
  },
  {
   "cell_type": "markdown",
   "id": "e04201dc",
   "metadata": {},
   "source": [
    "You can combine row and column name indexing to return a specific value at a position:"
   ]
  },
  {
   "cell_type": "code",
   "execution_count": 10,
   "id": "540ab419",
   "metadata": {},
   "outputs": [
    {
     "data": {
      "text/plain": [
       "\"Explanation\\nWhy the edits made under my username Hardcore Metallica Fan were reverted? They weren't vandalisms, just closure on some GAs after I voted at New York Dolls FAC. And please don't remove the template from the talk page since I'm retired now.89.205.38.27\""
      ]
     },
     "execution_count": 10,
     "metadata": {},
     "output_type": "execute_result"
    }
   ],
   "source": [
    "train[0][\"comment_text\"]"
   ]
  },
  {
   "cell_type": "markdown",
   "id": "9810e271",
   "metadata": {},
   "source": [
    "But it is important to remember that indexing order matters, especially when working with large audio and image datasets. Indexing by the column name returns all the values in the column first, then loads the value at that position. For large datasets, it may be slower to index by the column name first."
   ]
  },
  {
   "cell_type": "markdown",
   "id": "3d3c5a45",
   "metadata": {},
   "source": [
    "### Aside: dataframes\n",
    "\n",
    "We are using the built in Datasets class from hugginface, which is useful because it allows us to download a ton of datasets right in Jupyter. But plain old Pandas dataframes are very powerful for storing, examining, manipulating, and transforming data."
   ]
  },
  {
   "cell_type": "markdown",
   "id": "d43833df",
   "metadata": {},
   "source": [
    "Make a dataframe from our Dataset object"
   ]
  },
  {
   "cell_type": "code",
   "execution_count": 11,
   "id": "52e260b3",
   "metadata": {
    "scrolled": true
   },
   "outputs": [],
   "source": [
    "df = pd.DataFrame.from_records(train)"
   ]
  },
  {
   "cell_type": "code",
   "execution_count": 12,
   "id": "4c42702a",
   "metadata": {},
   "outputs": [
    {
     "data": {
      "text/html": [
       "<div>\n",
       "<style scoped>\n",
       "    .dataframe tbody tr th:only-of-type {\n",
       "        vertical-align: middle;\n",
       "    }\n",
       "\n",
       "    .dataframe tbody tr th {\n",
       "        vertical-align: top;\n",
       "    }\n",
       "\n",
       "    .dataframe thead th {\n",
       "        text-align: right;\n",
       "    }\n",
       "</style>\n",
       "<table border=\"1\" class=\"dataframe\">\n",
       "  <thead>\n",
       "    <tr style=\"text-align: right;\">\n",
       "      <th></th>\n",
       "      <th>comment_text</th>\n",
       "      <th>toxic</th>\n",
       "      <th>severe_toxic</th>\n",
       "      <th>obscene</th>\n",
       "      <th>threat</th>\n",
       "      <th>insult</th>\n",
       "      <th>identity_hate</th>\n",
       "    </tr>\n",
       "  </thead>\n",
       "  <tbody>\n",
       "    <tr>\n",
       "      <th>6</th>\n",
       "      <td>COCKSUCKER BEFORE YOU PISS AROUND ON MY WORK</td>\n",
       "      <td>1</td>\n",
       "      <td>1</td>\n",
       "      <td>1</td>\n",
       "      <td>0</td>\n",
       "      <td>1</td>\n",
       "      <td>0</td>\n",
       "    </tr>\n",
       "    <tr>\n",
       "      <th>12</th>\n",
       "      <td>Hey... what is it..\\n@ | talk .\\nWhat is it......</td>\n",
       "      <td>1</td>\n",
       "      <td>0</td>\n",
       "      <td>0</td>\n",
       "      <td>0</td>\n",
       "      <td>0</td>\n",
       "      <td>0</td>\n",
       "    </tr>\n",
       "    <tr>\n",
       "      <th>16</th>\n",
       "      <td>Bye! \\n\\nDon't look, come or think of comming ...</td>\n",
       "      <td>1</td>\n",
       "      <td>0</td>\n",
       "      <td>0</td>\n",
       "      <td>0</td>\n",
       "      <td>0</td>\n",
       "      <td>0</td>\n",
       "    </tr>\n",
       "    <tr>\n",
       "      <th>42</th>\n",
       "      <td>You are gay or antisemmitian? \\n\\nArchangel WH...</td>\n",
       "      <td>1</td>\n",
       "      <td>0</td>\n",
       "      <td>1</td>\n",
       "      <td>0</td>\n",
       "      <td>1</td>\n",
       "      <td>1</td>\n",
       "    </tr>\n",
       "    <tr>\n",
       "      <th>43</th>\n",
       "      <td>FUCK YOUR FILTHY MOTHER IN THE ASS, DRY!</td>\n",
       "      <td>1</td>\n",
       "      <td>0</td>\n",
       "      <td>1</td>\n",
       "      <td>0</td>\n",
       "      <td>1</td>\n",
       "      <td>0</td>\n",
       "    </tr>\n",
       "    <tr>\n",
       "      <th>...</th>\n",
       "      <td>...</td>\n",
       "      <td>...</td>\n",
       "      <td>...</td>\n",
       "      <td>...</td>\n",
       "      <td>...</td>\n",
       "      <td>...</td>\n",
       "      <td>...</td>\n",
       "    </tr>\n",
       "    <tr>\n",
       "      <th>159494</th>\n",
       "      <td>\"\\n\\n our previous conversation \\n\\nyou fuckin...</td>\n",
       "      <td>1</td>\n",
       "      <td>0</td>\n",
       "      <td>1</td>\n",
       "      <td>0</td>\n",
       "      <td>1</td>\n",
       "      <td>1</td>\n",
       "    </tr>\n",
       "    <tr>\n",
       "      <th>159514</th>\n",
       "      <td>YOU ARE A MISCHIEVIOUS PUBIC HAIR</td>\n",
       "      <td>1</td>\n",
       "      <td>0</td>\n",
       "      <td>0</td>\n",
       "      <td>0</td>\n",
       "      <td>1</td>\n",
       "      <td>0</td>\n",
       "    </tr>\n",
       "    <tr>\n",
       "      <th>159541</th>\n",
       "      <td>Your absurd edits \\n\\nYour absurd edits on gre...</td>\n",
       "      <td>1</td>\n",
       "      <td>0</td>\n",
       "      <td>1</td>\n",
       "      <td>0</td>\n",
       "      <td>1</td>\n",
       "      <td>0</td>\n",
       "    </tr>\n",
       "    <tr>\n",
       "      <th>159546</th>\n",
       "      <td>\"\\n\\nHey listen don't you ever!!!! Delete my e...</td>\n",
       "      <td>1</td>\n",
       "      <td>0</td>\n",
       "      <td>0</td>\n",
       "      <td>0</td>\n",
       "      <td>1</td>\n",
       "      <td>0</td>\n",
       "    </tr>\n",
       "    <tr>\n",
       "      <th>159554</th>\n",
       "      <td>and i'm going to keep posting the stuff u dele...</td>\n",
       "      <td>1</td>\n",
       "      <td>0</td>\n",
       "      <td>1</td>\n",
       "      <td>0</td>\n",
       "      <td>1</td>\n",
       "      <td>0</td>\n",
       "    </tr>\n",
       "  </tbody>\n",
       "</table>\n",
       "<p>15294 rows × 7 columns</p>\n",
       "</div>"
      ],
      "text/plain": [
       "                                             comment_text  toxic  \\\n",
       "6            COCKSUCKER BEFORE YOU PISS AROUND ON MY WORK      1   \n",
       "12      Hey... what is it..\\n@ | talk .\\nWhat is it......      1   \n",
       "16      Bye! \\n\\nDon't look, come or think of comming ...      1   \n",
       "42      You are gay or antisemmitian? \\n\\nArchangel WH...      1   \n",
       "43               FUCK YOUR FILTHY MOTHER IN THE ASS, DRY!      1   \n",
       "...                                                   ...    ...   \n",
       "159494  \"\\n\\n our previous conversation \\n\\nyou fuckin...      1   \n",
       "159514                  YOU ARE A MISCHIEVIOUS PUBIC HAIR      1   \n",
       "159541  Your absurd edits \\n\\nYour absurd edits on gre...      1   \n",
       "159546  \"\\n\\nHey listen don't you ever!!!! Delete my e...      1   \n",
       "159554  and i'm going to keep posting the stuff u dele...      1   \n",
       "\n",
       "        severe_toxic  obscene  threat  insult  identity_hate  \n",
       "6                  1        1       0       1              0  \n",
       "12                 0        0       0       0              0  \n",
       "16                 0        0       0       0              0  \n",
       "42                 0        1       0       1              1  \n",
       "43                 0        1       0       1              0  \n",
       "...              ...      ...     ...     ...            ...  \n",
       "159494             0        1       0       1              1  \n",
       "159514             0        0       0       1              0  \n",
       "159541             0        1       0       1              0  \n",
       "159546             0        0       0       1              0  \n",
       "159554             0        1       0       1              0  \n",
       "\n",
       "[15294 rows x 7 columns]"
      ]
     },
     "execution_count": 12,
     "metadata": {},
     "output_type": "execute_result"
    }
   ],
   "source": [
    "df[df['toxic']==1]"
   ]
  },
  {
   "cell_type": "markdown",
   "id": "60fb03cd",
   "metadata": {},
   "source": [
    "## Multi-label vs Binary classification"
   ]
  },
  {
   "cell_type": "markdown",
   "id": "a6ceed85",
   "metadata": {},
   "source": [
    "Each example is a dictionary with comment text and then 6 annotations, which are coded for either 1 or 0. This is a multilabel classification problem. We are going to simplify it first into a binary classification task. Given a post, is it 'toxic' or not? \n",
    "\n",
    "What are the inputs to the model? what is the output?"
   ]
  },
  {
   "cell_type": "markdown",
   "id": "b157a360",
   "metadata": {},
   "source": [
    "# Pre-processing the Data"
   ]
  },
  {
   "cell_type": "markdown",
   "id": "de5f1cd7",
   "metadata": {},
   "source": [
    "We have to transform our text inputs to numbers. How have we been doing this so far?"
   ]
  },
  {
   "cell_type": "markdown",
   "id": "9dbc0ca0",
   "metadata": {},
   "source": [
    "<img src=\"../img/fullyconnected.png\" alt=\"Alternative text\" />"
   ]
  },
  {
   "cell_type": "markdown",
   "id": "f7703efc",
   "metadata": {},
   "source": [
    "Another way to think of the layer of input neurons is as a vector. in fact, this is how we represent the weights in each layer of the network.\n",
    "\n",
    "How can we represent the comment text as a vector? \n",
    "\n"
   ]
  },
  {
   "cell_type": "markdown",
   "id": "e9468420",
   "metadata": {},
   "source": [
    "## Loading embeddings"
   ]
  },
  {
   "cell_type": "markdown",
   "id": "996102e2",
   "metadata": {},
   "source": [
    "We can use embeddings.\n",
    "\n",
    "Let's load our word embeddings that we trained on X. "
   ]
  },
  {
   "cell_type": "code",
   "execution_count": null,
   "id": "270593db",
   "metadata": {},
   "outputs": [],
   "source": [
    "\"\"\"\n",
    "MISSING\n",
    "\"\"\"\n",
    "\n",
    "# load word2vec embeddings we trained"
   ]
  },
  {
   "cell_type": "markdown",
   "id": "7b04d8c3",
   "metadata": {},
   "source": [
    "Alternately, we can use pretrained vectors or embeddings downloaded from the internet. We can use Word2Vec, or GloVe, which is a model that came out a few years later and works very well. "
   ]
  },
  {
   "cell_type": "markdown",
   "id": "3b7d453e",
   "metadata": {},
   "source": [
    "We use `gensim` which is a great library for working with embeddings and training topic models"
   ]
  },
  {
   "cell_type": "code",
   "execution_count": 14,
   "id": "72904f06",
   "metadata": {},
   "outputs": [],
   "source": [
    "info = api.info()"
   ]
  },
  {
   "cell_type": "markdown",
   "id": "dd6716ec",
   "metadata": {},
   "source": [
    "Print out available models (i.e. embeddings)"
   ]
  },
  {
   "cell_type": "code",
   "execution_count": 15,
   "id": "fcbf9af8",
   "metadata": {},
   "outputs": [
    {
     "name": "stdout",
     "output_type": "stream",
     "text": [
      "__testing_word2vec-matrix-synopsis (-1 records): [THIS IS ONLY FOR TESTING] Word vecrors ...\n",
      "conceptnet-numberbatch-17-06-300 (1917247 records): ConceptNet Numberbatch consists of state...\n",
      "fasttext-wiki-news-subwords-300 (999999 records): 1 million word vectors trained on Wikipe...\n",
      "glove-twitter-100 (1193514 records): Pre-trained vectors based on  2B tweets,...\n",
      "glove-twitter-200 (1193514 records): Pre-trained vectors based on 2B tweets, ...\n",
      "glove-twitter-25 (1193514 records): Pre-trained vectors based on 2B tweets, ...\n",
      "glove-twitter-50 (1193514 records): Pre-trained vectors based on 2B tweets, ...\n",
      "glove-wiki-gigaword-100 (400000 records): Pre-trained vectors based on Wikipedia 2...\n",
      "glove-wiki-gigaword-200 (400000 records): Pre-trained vectors based on Wikipedia 2...\n",
      "glove-wiki-gigaword-300 (400000 records): Pre-trained vectors based on Wikipedia 2...\n",
      "glove-wiki-gigaword-50 (400000 records): Pre-trained vectors based on Wikipedia 2...\n",
      "word2vec-google-news-300 (3000000 records): Pre-trained vectors trained on a part of...\n",
      "word2vec-ruscorpora-300 (184973 records): Word2vec Continuous Skipgram vectors tra...\n"
     ]
    }
   ],
   "source": [
    "for model_name, model_data in sorted(info['models'].items()):\n",
    "    print(\n",
    "        '%s (%d records): %s' % (\n",
    "            model_name,\n",
    "            model_data.get('num_records', -1),\n",
    "            model_data['description'][:40] + '...',\n",
    "        )\n",
    "    )"
   ]
  },
  {
   "cell_type": "markdown",
   "id": "cdef2fda",
   "metadata": {},
   "source": [
    "We'll continue with twitter embeddings. Feel free to sub in a different kind and see what kind of results you get."
   ]
  },
  {
   "cell_type": "code",
   "execution_count": 19,
   "id": "4107874c",
   "metadata": {},
   "outputs": [],
   "source": [
    "# download the model and return as object ready for use\n",
    "# embeddings_glove_twitter = api.load(\"glove-twitter-50\")\n",
    "embeddings = api.load(\"glove-wiki-gigaword-300\")\n",
    "\n"
   ]
  },
  {
   "cell_type": "markdown",
   "id": "3ab47b07",
   "metadata": {},
   "source": [
    "We can access the embedding of a single word in the dictionary like this"
   ]
  },
  {
   "cell_type": "code",
   "execution_count": 20,
   "id": "0d7bb142",
   "metadata": {
    "scrolled": true
   },
   "outputs": [
    {
     "data": {
      "text/plain": [
       "array([-3.0143e-01, -4.0871e-01, -7.9810e-02, -5.2438e-02, -3.5349e-01,\n",
       "        5.4150e-01, -9.6455e-02, -7.9235e-01, -9.7757e-02,  6.9697e-01,\n",
       "        4.5574e-01, -5.7978e-01, -6.6680e-01, -2.0470e-01, -1.7528e-01,\n",
       "       -1.0344e-01, -2.6673e-01, -1.5286e-01, -6.6339e-01,  6.9289e-02,\n",
       "       -1.4437e-01,  8.7721e-02,  9.2715e-02,  5.5215e-02, -1.7366e-01,\n",
       "        8.9224e-01,  5.8970e-01,  6.4653e-01, -5.1138e-01, -8.6566e-02,\n",
       "        5.9790e-01, -1.1206e-01,  8.2272e-01,  2.0537e-01,  5.1447e-01,\n",
       "       -1.8681e-01,  1.0363e-01,  3.1860e-01, -2.7514e-01,  3.8401e-01,\n",
       "        5.7713e-01,  3.7792e-01, -5.7643e-02,  3.8713e-01, -2.2532e-01,\n",
       "       -9.0299e-02,  6.2768e-01, -3.9422e-01,  7.5922e-02,  6.6832e-01,\n",
       "       -2.8335e-01,  2.0004e-01,  2.7329e-02, -4.3486e-01,  2.7223e-01,\n",
       "        5.7414e-01,  4.1449e-01, -3.4008e-01,  4.9794e-02,  3.3434e-01,\n",
       "        7.9261e-01, -1.7731e-02,  1.8991e-01,  4.5195e-01, -1.1093e-01,\n",
       "        1.2856e-01, -6.9816e-01, -1.6283e-01,  1.8836e-01, -2.8849e-01,\n",
       "        3.3015e-01, -3.3577e-02, -5.7006e-01, -4.5232e-01, -2.2023e-01,\n",
       "       -3.7058e-01, -9.4518e-02, -3.1418e-01,  2.1547e-01, -1.2200e-01,\n",
       "        2.8284e-01, -3.4277e-01,  9.9021e-02, -5.6166e-01, -1.8561e-01,\n",
       "       -3.3552e-01, -5.5768e-01, -1.4354e-01, -3.1009e-01,  1.1150e-02,\n",
       "       -1.0039e+00, -5.2553e-01, -3.9496e-01, -2.0218e-01, -5.6820e-01,\n",
       "        7.8575e-01, -1.0838e-02,  4.3373e-01,  5.1404e-02,  7.0415e-01,\n",
       "       -1.2233e-01,  2.6206e-01,  1.7754e-01, -6.7159e-02,  3.4578e-01,\n",
       "       -1.6985e-01, -4.1067e-01,  1.2892e-01, -2.6815e-01, -1.9049e-01,\n",
       "       -8.9378e-02,  3.0643e-01, -2.5545e-01, -6.7768e-02,  1.8040e-02,\n",
       "        3.5248e-01, -2.8571e-01,  2.0546e-02, -1.5397e-01,  1.2565e-01,\n",
       "        6.6193e-01, -3.7765e-01,  1.9586e-01, -2.5963e-02,  5.8595e-01,\n",
       "       -4.5641e-02, -3.5987e-02,  2.9026e-01, -2.5521e-01,  4.3887e-01,\n",
       "        1.8614e-01, -3.1071e-01, -1.8260e-02, -1.4780e-01,  4.4056e-01,\n",
       "       -1.5118e-01,  5.6323e-02, -5.9259e-01,  4.3944e-01, -2.7945e-01,\n",
       "       -5.3764e-01, -3.3715e-01,  1.7874e-01, -3.9607e-02,  5.6252e-01,\n",
       "       -7.5161e-02, -3.0036e-01,  6.4628e-01,  1.1487e-02, -3.1078e-01,\n",
       "       -2.4926e-02, -3.5727e-01,  1.4230e-01,  5.1176e-01, -1.7343e-01,\n",
       "       -1.6698e-01,  1.8181e-01,  3.8756e-01,  6.4788e-01,  4.6362e-02,\n",
       "       -2.9367e-01, -1.4826e-01, -9.3931e-01,  3.1843e-01,  3.7896e-01,\n",
       "       -9.6880e-02, -4.8042e-01, -2.2859e-01, -4.5068e-01,  5.1268e-02,\n",
       "       -2.2142e-01, -3.9285e-02, -1.5434e-01, -6.3489e-01, -8.7727e-02,\n",
       "        9.3330e-02, -2.6394e-01,  8.2995e-02, -2.4854e-01, -3.0707e-01,\n",
       "        4.6578e-01,  4.0605e-02, -1.1874e-01,  3.7513e-02, -3.8243e-01,\n",
       "        1.7076e-01,  1.0245e-02,  2.3751e-01,  7.5195e-01,  2.2995e-01,\n",
       "        1.0745e-01, -8.8855e-02,  1.6084e-01,  2.7610e-03, -3.1142e-02,\n",
       "        2.5754e-01, -1.4378e-01, -1.7471e-01, -4.6807e-02, -1.6506e-01,\n",
       "       -1.2332e-01,  5.3050e-01, -9.9322e-02, -1.6886e-01, -2.6801e-01,\n",
       "       -5.1555e-01, -4.1456e-01, -6.0453e-02,  1.2313e-01, -5.6491e-01,\n",
       "       -1.2020e-01, -2.6517e-02, -1.1723e-02,  6.0220e-01, -6.1704e-01,\n",
       "       -2.5925e-01, -2.0021e-01,  2.6016e-01, -2.8950e-01, -2.7517e-01,\n",
       "       -5.1502e-02,  2.7877e-01, -3.4131e-03, -3.7609e-01, -3.6103e-01,\n",
       "       -2.7375e-01, -2.0960e-01, -9.6450e-02, -3.7391e-01,  2.2320e-01,\n",
       "        3.7598e-01,  1.1612e-01,  1.3850e-01,  2.8139e-01,  6.0700e-01,\n",
       "        8.1465e-02, -2.3483e-01,  1.2231e-01, -2.3154e-01,  1.9402e-01,\n",
       "        1.0287e-02,  2.0808e-01, -7.0016e-01, -3.8034e-01,  3.9078e-01,\n",
       "        3.7751e-01,  4.9491e-02, -2.2927e-01,  1.6247e-01, -3.0462e-01,\n",
       "       -1.2479e-01,  4.5702e-02, -2.1599e-01, -4.5347e-02, -3.5516e-01,\n",
       "       -7.4026e-01, -1.7654e-01, -2.4082e-01, -2.8337e-02, -5.6630e-01,\n",
       "        1.8421e-01, -2.7497e-01, -3.3143e-01, -6.4426e-01,  4.7677e-01,\n",
       "       -2.2578e-01, -5.0015e-02,  3.5976e-01, -3.1831e-01,  3.6663e-01,\n",
       "       -6.9262e-01,  5.1097e-02,  2.1446e-01, -5.2782e-01,  3.2045e-01,\n",
       "        4.0339e-01,  8.2131e-01,  5.3562e-01, -2.2359e-01, -2.4115e-01,\n",
       "        2.2862e-01,  1.0220e-01, -5.3171e-01,  9.6837e-04, -5.7907e-02,\n",
       "       -5.2258e-02,  6.1911e-01,  6.3595e-01,  1.8181e-01,  2.8382e-01,\n",
       "        1.5732e-01, -2.7341e-02, -2.9367e-01, -7.6251e-01,  5.2269e-01,\n",
       "       -4.1890e-01,  1.6171e-01,  1.7776e-01,  2.6606e-01,  4.4864e-01],\n",
       "      dtype=float32)"
      ]
     },
     "execution_count": 20,
     "metadata": {},
     "output_type": "execute_result"
    }
   ],
   "source": [
    "embeddings['sup']"
   ]
  },
  {
   "cell_type": "markdown",
   "id": "d86c25ae",
   "metadata": {},
   "source": [
    "# Preprocessing"
   ]
  },
  {
   "cell_type": "markdown",
   "id": "fe2158ba",
   "metadata": {},
   "source": [
    "## Transform model inputs into vector representation  (x) "
   ]
  },
  {
   "cell_type": "markdown",
   "id": "52b8eb2e",
   "metadata": {},
   "source": [
    "First we need to transform the input text into a vector representation. \n",
    "\n",
    "Let's write a function that constructs an input vector from the training example. It will take a single example in the form of a dictionary OR a comment string, and should have a switch depending on the type of the input. This will help us down the road "
   ]
  },
  {
   "cell_type": "markdown",
   "id": "364f8a70",
   "metadata": {},
   "source": [
    "what needs to happen in this function?"
   ]
  },
  {
   "cell_type": "code",
   "execution_count": 34,
   "id": "7d60fe1c",
   "metadata": {},
   "outputs": [],
   "source": [
    "def form_input(example, embeddings):\n",
    "    \"\"\"\n",
    "    :example: training example from huggingface dataset in the form of a dictionary, e.g.\n",
    "    \n",
    "    {'comment_text': '\"\\nAnd ... I really don\\'t think you understand.  I came here and my idea was bad right away.  What kind of community goes \"\"you have bad ideas\"\" go away, instead of helping rewrite them.   \"',\n",
    "     'toxic': 0,\n",
    "     'severe_toxic': 0,\n",
    "     'obscene': 0,\n",
    "     'threat': 0,\n",
    "     'insult': 0,\n",
    "     'identity_hate': 0}\n",
    "\n",
    "    returns a dictionary with a new key, x, which maps to a vector representing the comment\n",
    "    \"\"\"\n",
    "    \n",
    "    if isinstance(example, str):\n",
    "        tokens = tokenize(example)\n",
    "        example = {}\n",
    "    else:\n",
    "        tokens = tokenize(example['comment_text'])\n",
    "        \n",
    "    vectors = [embeddings[t] for t in tokens]\n",
    "    \n",
    "    centroid = np.mean(vectors, axis = 0)\n",
    "    \n",
    "    example['x'] = centroid\n",
    "    return example"
   ]
  },
  {
   "cell_type": "markdown",
   "id": "7584dd29",
   "metadata": {},
   "source": [
    "We need to process the input string into words. It makes sense to use the same tokenization function we used for the w2v training corpus, because those are the vectors we have to work with."
   ]
  },
  {
   "cell_type": "code",
   "execution_count": 35,
   "id": "9e778603",
   "metadata": {},
   "outputs": [],
   "source": [
    "import re\n",
    "\n",
    "def tokenize(string):\n",
    "    \"\"\"\n",
    "    tokenization function from n-gram models\n",
    "    \"\"\"\n",
    "    tokenized = re.sub(r'(\\w)([.,?!;:])', r'\\1 \\2', string) \n",
    "    tokenized = tokenized.split()\n",
    "    tokenized = [word.lower() for word in tokenized]\n",
    "    return tokenized"
   ]
  },
  {
   "cell_type": "code",
   "execution_count": 36,
   "id": "1992c9a1",
   "metadata": {},
   "outputs": [],
   "source": [
    "def form_input(example, word_embeddings):\n",
    "    \"\"\"\n",
    "    :example: training example from huggingface dataset in the form of a dictionary, e.g.\n",
    "    \n",
    "    {'comment_text': '\"\\nAnd ... I really don\\'t think you understand.  I came here and my idea was bad right away.  What kind of community goes \"\"you have bad ideas\"\" go away, instead of helping rewrite them.   \"',\n",
    "     'toxic': 0,\n",
    "     'severe_toxic': 0,\n",
    "     'obscene': 0,\n",
    "     'threat': 0,\n",
    "     'insult': 0,\n",
    "     'identity_hate': 0}\n",
    "\n",
    "    returns a dictionary with a new key, x, which maps to a vector representing the comment\n",
    "    \"\"\"\n",
    "    \n",
    "    # get the tokens\n",
    "    if isinstance(example, str):\n",
    "        tokens = tokenize(example)\n",
    "        example = {} # dummy input dict\n",
    "    else:\n",
    "        tokens = tokenize(example['comment_text'])\n",
    "\n",
    "    # get the vectors for each token and average them into one vector\n",
    "    vecs = []\n",
    "    for word in tokens:\n",
    "        try:\n",
    "            vec = word_embeddings[word]\n",
    "        except KeyError: # this token is not in our embeddings dictionary\n",
    "            vec = np.zeros(word_embeddings.vector_size)\n",
    "        vecs.append(vec)\n",
    "    \n",
    "    centroid = np.mean(vecs, axis=0)\n",
    "    \n",
    "    # convert numpy array to torch tensor\n",
    "    torch_tensor = torch.from_numpy(centroid).float()\n",
    "    \n",
    "    # return the same example with a new key 'x' containing the vectorized input\n",
    "    example['x'] = torch_tensor\n",
    "    return example"
   ]
  },
  {
   "cell_type": "markdown",
   "id": "88064ede",
   "metadata": {},
   "source": [
    "We test out our form_input function and see that it adds a new key to the example dict"
   ]
  },
  {
   "cell_type": "code",
   "execution_count": 31,
   "id": "bc87f531",
   "metadata": {
    "scrolled": true
   },
   "outputs": [
    {
     "data": {
      "text/plain": [
       "{'comment_text': \"Explanation\\nWhy the edits made under my username Hardcore Metallica Fan were reverted? They weren't vandalisms, just closure on some GAs after I voted at New York Dolls FAC. And please don't remove the template from the talk page since I'm retired now.89.205.38.27\",\n",
       " 'toxic': 0,\n",
       " 'severe_toxic': 0,\n",
       " 'obscene': 0,\n",
       " 'threat': 0,\n",
       " 'insult': 0,\n",
       " 'identity_hate': 0,\n",
       " 'x': tensor([-7.7702e-02,  2.4869e-02, -1.7935e-02, -3.1596e-02,  2.8198e-02,\n",
       "         -1.3214e-02, -5.8539e-02,  2.2593e-02,  9.9591e-02, -9.2103e-01,\n",
       "         -2.1298e-02,  1.7269e-02,  3.8579e-02,  4.8940e-02,  9.5054e-02,\n",
       "          1.5554e-01, -6.4634e-02,  5.1830e-02,  1.3312e-02,  6.0794e-03,\n",
       "          2.7822e-03,  1.5557e-01,  7.4313e-02,  3.4366e-02, -1.9350e-01,\n",
       "         -2.1065e-02,  3.6379e-02,  2.4771e-02,  3.4094e-02, -2.0115e-02,\n",
       "         -1.4539e-02,  5.3380e-02, -9.0018e-02,  1.3374e-01, -5.5156e-01,\n",
       "         -8.2663e-02, -2.5187e-02,  6.4417e-02, -4.8914e-03,  1.2492e-01,\n",
       "          4.7816e-02, -4.6201e-02, -4.7054e-02,  6.5071e-02,  1.0437e-01,\n",
       "          1.0473e-01,  4.9512e-02,  9.7196e-02, -1.2090e-01,  6.4834e-02,\n",
       "          7.1385e-02, -1.0335e-01, -6.1313e-02, -3.5654e-02, -2.4034e-02,\n",
       "          1.3430e-01,  2.3896e-02,  9.3184e-02,  1.2138e-01, -1.4497e-01,\n",
       "          7.5171e-02,  2.0701e-02,  9.6726e-02, -1.3433e-02, -6.2115e-03,\n",
       "         -2.2735e-01,  9.4530e-02,  3.0802e-02,  1.1068e-01, -6.5879e-02,\n",
       "          1.0698e-01, -1.0647e-02,  6.6890e-03,  1.0944e-01, -5.8848e-02,\n",
       "          5.0874e-02,  7.7294e-02,  9.2388e-02, -1.1546e-01, -9.1489e-02,\n",
       "         -1.1970e-01, -8.6266e-03,  9.8307e-02, -2.5677e-02,  4.3626e-02,\n",
       "          7.2710e-02, -7.0061e-02,  1.7258e-01,  6.4015e-02,  9.5522e-02,\n",
       "         -1.0145e-01,  3.2776e-02, -1.4905e-01, -1.0825e-01, -4.7442e-02,\n",
       "          7.1107e-02, -2.7546e-01, -5.7662e-02,  6.0285e-02, -2.2838e-01,\n",
       "          6.6297e-02, -9.9543e-03,  5.1538e-02, -1.6098e-02, -2.5778e-02,\n",
       "         -8.3072e-02,  4.1135e-02,  1.1772e-01, -7.8649e-02,  7.3079e-02,\n",
       "          6.4012e-02, -5.6964e-02, -1.1511e-01, -1.9245e-01,  3.1335e-02,\n",
       "          1.1139e-02, -9.0174e-02,  2.6594e-02,  3.0917e-02, -1.8031e-01,\n",
       "         -3.6480e-02, -1.4502e-02,  9.8505e-02,  7.8947e-02, -8.0135e-02,\n",
       "         -2.9278e-02, -2.6406e-02,  3.0730e-02,  7.9178e-02, -4.0400e-02,\n",
       "          6.4106e-02,  8.3451e-02,  6.8931e-02, -5.7311e-02,  8.5033e-03,\n",
       "          9.9489e-03, -2.1871e-02,  6.5561e-02,  1.4147e-02,  1.2448e-01,\n",
       "         -1.5156e-01, -3.0104e-02, -2.2896e-02,  7.1376e-02, -1.6635e-01,\n",
       "          1.6395e-02,  3.4235e-02,  7.4751e-02,  8.8756e-03, -4.2182e-03,\n",
       "          1.3175e-01, -5.0172e-02,  4.8847e-02, -6.0834e-02,  1.3856e-01,\n",
       "          2.3348e-02, -4.1669e-02, -6.7902e-02,  6.7798e-02, -4.8137e-02,\n",
       "          3.8416e-02, -2.4500e-02, -8.2429e-02, -5.1120e-02, -4.3470e-02,\n",
       "          1.3039e-01,  3.0860e-02,  9.8560e-02,  4.7800e-02, -1.7611e-02,\n",
       "          5.1423e-02,  9.4009e-03, -2.6579e-01,  3.5968e-02, -5.3938e-02,\n",
       "          1.8589e-03,  7.8023e-02,  9.3690e-02,  6.6371e-02,  2.6843e-01,\n",
       "          3.9170e-02,  1.0316e-01,  9.2024e-02,  3.9178e-02, -2.4866e-02,\n",
       "         -2.5177e-02, -4.5898e-04, -1.4441e-02,  1.6976e-01,  3.9623e-04,\n",
       "         -8.7991e-02,  8.0362e-02,  3.5393e-02, -7.0593e-03, -3.3698e-03,\n",
       "         -1.6731e-01, -4.9041e-02,  2.8155e-02,  9.0881e-02, -8.9170e-02,\n",
       "          6.3347e-01, -4.9225e-02,  8.8739e-02,  3.5556e-02,  8.4390e-02,\n",
       "          1.7544e-02, -2.6308e-02,  2.7531e-02, -3.7016e-02, -1.0177e-01,\n",
       "         -8.3880e-02, -6.2795e-02,  5.8918e-02,  2.8021e-02,  6.4295e-03,\n",
       "          6.3703e-02, -3.5289e-02,  8.7539e-02,  6.3429e-03,  5.9245e-02,\n",
       "          1.0313e-01, -3.2200e-02, -6.4779e-02,  9.3583e-02, -3.3103e-02,\n",
       "          3.8234e-02,  1.9530e-02,  4.0147e-02, -1.3758e-02, -9.5953e-02,\n",
       "          5.4646e-03, -1.8309e-02, -3.6476e-02, -1.9017e-01,  1.3036e-01,\n",
       "         -1.9387e-02,  1.0823e-01,  7.1332e-02, -9.6973e-02,  8.4934e-02,\n",
       "         -8.1090e-02, -9.2201e-02,  2.0630e-01,  1.3408e-01, -2.7194e-01,\n",
       "         -4.9769e-02,  4.6231e-02, -7.3905e-02, -4.7907e-02, -1.7000e-02,\n",
       "          4.1591e-02, -1.1960e-01,  1.6621e-02,  1.2397e-02,  1.8136e-01,\n",
       "          8.8893e-02, -8.2329e-03, -3.1399e-02,  7.8949e-02, -1.1693e-03,\n",
       "         -4.5969e-02, -3.7150e-02, -1.7276e-04, -4.7046e-02, -6.7260e-02,\n",
       "          2.8859e-02, -2.0867e-02,  4.0958e-02,  2.1477e-02,  6.0924e-02,\n",
       "         -2.2974e-02, -1.1766e-01,  8.2930e-02, -3.2317e-02, -3.7919e-02,\n",
       "          2.0144e-02, -1.2625e+00, -3.6526e-02,  2.0408e-01,  1.1345e-01,\n",
       "         -1.2265e-01,  1.2771e-02, -8.8338e-02,  4.4923e-02, -7.1906e-02,\n",
       "          1.2158e-01, -7.5680e-02,  4.3211e-02, -2.1212e-02, -2.7649e-02,\n",
       "         -2.8528e-02, -1.6684e-01, -1.2064e-02,  6.1818e-02,  1.0765e-01,\n",
       "          2.9012e-02,  4.3722e-02, -1.5308e-01, -3.6020e-02,  1.3391e-01])}"
      ]
     },
     "execution_count": 31,
     "metadata": {},
     "output_type": "execute_result"
    }
   ],
   "source": [
    "sample = train[0]\n",
    "form_input(sample, embeddings)"
   ]
  },
  {
   "cell_type": "markdown",
   "id": "e9513b75",
   "metadata": {},
   "source": [
    "we can also use a regular string as input"
   ]
  },
  {
   "cell_type": "code",
   "execution_count": 25,
   "id": "2c3f7df2",
   "metadata": {
    "scrolled": true
   },
   "outputs": [
    {
     "data": {
      "text/plain": [
       "{'x': tensor([ 4.4298e-02, -2.0784e-01, -2.5269e-01,  1.8579e-01, -1.4058e-01,\n",
       "          1.6610e-01, -3.1703e-01,  1.1091e-01,  8.1572e-02, -7.3379e-01,\n",
       "         -6.2840e-02, -2.1939e-01,  7.7836e-02, -2.1490e-01,  3.4686e-01,\n",
       "          2.6480e-01, -2.8167e-01,  2.9500e-02,  1.6735e-01,  6.2862e-01,\n",
       "          4.3309e-01,  6.6555e-01, -7.3936e-02, -1.0327e-01, -1.7921e-01,\n",
       "         -2.0264e-01,  1.8808e-03, -1.4527e-01,  4.3457e-02, -1.9260e-01,\n",
       "         -1.7682e-02,  1.3684e-01, -4.0609e-01, -2.3865e-01, -4.5533e-01,\n",
       "          1.0606e-01, -2.9624e-01, -1.4572e-01, -3.1220e-01,  4.3033e-02,\n",
       "         -5.1448e-02, -4.9272e-01, -2.1770e-01, -1.1620e-03,  1.1844e-01,\n",
       "         -2.9174e-02,  2.7329e-01, -1.3716e-01, -1.8623e-01,  6.4190e-02,\n",
       "          1.0911e-01,  2.4575e-01,  9.4490e-02, -3.9944e-01, -4.7498e-01,\n",
       "          2.4845e-01,  6.1780e-02, -2.6160e-03,  6.8293e-02,  1.8575e-01,\n",
       "          1.6526e-01, -2.6220e-01, -3.0672e-01,  4.5918e-01,  1.9137e-01,\n",
       "         -2.2654e-02,  1.8514e-01, -3.4526e-02,  1.5635e-01,  3.9159e-01,\n",
       "          1.0644e-01, -1.0957e-01, -2.2646e-01,  1.9559e-01,  1.3785e-01,\n",
       "         -6.9498e-02,  6.7282e-02,  3.1142e-01, -7.5577e-02, -3.5160e-01,\n",
       "         -4.5821e-01,  2.0070e-01,  6.7785e-01, -4.1582e-01, -3.1045e-01,\n",
       "         -1.6547e-01, -3.4059e-01,  7.4997e-01,  1.2132e-01,  1.2456e-01,\n",
       "         -4.1937e-01,  3.1590e-01, -1.0189e-01, -7.5960e-01, -2.3961e-01,\n",
       "          2.5421e-01, -2.5229e-01, -9.4956e-02,  1.8244e-01,  1.9760e-03,\n",
       "         -4.4014e-02,  1.4047e-01, -3.8828e-01,  5.2484e-02, -4.5148e-02,\n",
       "         -8.0238e-01,  7.9248e-02,  2.3690e-02, -2.6087e-01,  1.2530e-01,\n",
       "         -7.7000e-02, -2.1788e-01, -4.5222e-01, -2.2570e-01,  3.4481e-01,\n",
       "          2.2001e-01,  4.0626e-02, -8.8600e-02,  3.4718e-01, -1.5728e-01,\n",
       "         -6.1120e-02, -2.5677e-01,  7.7920e-02,  1.0651e-01,  3.6567e-01,\n",
       "         -4.3558e-01,  7.3833e-02,  2.1285e-01, -3.0789e-01, -2.4598e-01,\n",
       "          3.0672e-01, -3.3287e-01,  5.4002e-03, -7.7008e-02, -2.7923e-01,\n",
       "          3.2611e-01, -5.1520e-02, -2.0856e-01, -5.6388e-02,  3.2319e-01,\n",
       "         -1.7320e-01,  2.7715e-01, -5.2937e-02,  4.8237e-02, -2.9762e-01,\n",
       "         -2.9615e-01, -1.2850e-01,  2.3382e-02,  4.0788e-01,  5.2169e-01,\n",
       "         -6.5027e-01, -1.4118e-01, -8.9392e-02,  4.3153e-01,  2.3297e-01,\n",
       "         -8.7472e-03,  1.2323e-01, -1.4478e-01,  5.2821e-01, -1.5790e-01,\n",
       "          5.4269e-02,  5.2453e-02,  1.8694e-01, -2.6462e-01, -3.3529e-01,\n",
       "          3.5915e-01,  6.3017e-03,  4.4512e-01,  2.5514e-02, -4.8979e-01,\n",
       "         -2.2142e-02,  2.0165e-01, -2.8941e-02, -2.6340e-01,  3.8129e-01,\n",
       "         -2.8500e-01, -8.5080e-02,  2.2314e-01,  1.9986e-01, -3.3924e-01,\n",
       "         -6.6199e-04, -7.7432e-02,  4.6974e-01, -2.8263e-01,  8.1890e-02,\n",
       "         -2.0877e-01,  4.9927e-01,  1.0943e-01,  4.6421e-01,  7.0311e-02,\n",
       "          7.0466e-02,  2.0053e-01,  3.6505e-01, -6.9832e-02, -9.1231e-02,\n",
       "         -1.1141e-01, -5.8967e-01,  4.1204e-02,  4.5956e-01, -2.6423e-01,\n",
       "          8.4134e-01,  1.4583e-01,  4.8952e-01,  2.8639e-01, -6.8210e-02,\n",
       "          8.6827e-02,  1.5397e-01,  1.2576e-01,  2.7310e-02, -4.2184e-01,\n",
       "         -7.3103e-01, -8.1722e-02, -1.4181e-01,  1.6368e-01, -1.7032e-02,\n",
       "          3.3518e-02,  3.9453e-02,  2.1593e-01, -1.2737e-01, -5.8587e-02,\n",
       "         -5.5647e-01,  2.5034e-01, -1.4715e-01, -5.8932e-02, -7.4802e-03,\n",
       "         -5.2703e-01,  3.1244e-02,  1.9867e-01, -4.1120e-02, -9.2950e-02,\n",
       "          2.0235e-01,  1.6780e-02, -1.0162e-01, -8.5990e-01,  9.8890e-02,\n",
       "         -1.8753e-01, -5.6036e-02, -2.0857e-01, -2.2912e-01, -2.8369e-01,\n",
       "         -9.4249e-02, -4.8617e-02, -1.3742e-02, -1.3748e-01,  1.2886e-01,\n",
       "         -4.6747e-02, -3.2630e-01,  1.8574e-01, -1.1224e-01, -3.5804e-01,\n",
       "          2.2008e-01, -3.2144e-01, -1.8257e-01,  1.7737e-01,  3.4560e-02,\n",
       "          3.2722e-01,  1.8233e-01, -2.0219e-01,  6.0952e-02, -6.3127e-01,\n",
       "          1.4406e-01, -2.3027e-01, -1.7514e-01,  2.0542e-01,  2.1768e-02,\n",
       "          3.5549e-02, -1.7963e-01, -1.0430e-01, -1.1548e-02,  2.3059e-01,\n",
       "          5.5117e-02, -5.2746e-01, -4.0970e-02,  1.3260e-02, -2.8484e-01,\n",
       "         -2.3064e-01, -1.2532e+00, -2.4967e-01, -4.1300e-03, -4.6462e-01,\n",
       "         -2.3943e-01, -1.6912e-01, -2.5551e-01,  1.3037e-01, -2.8620e-01,\n",
       "          5.3009e-01,  5.2522e-02, -4.4373e-01, -2.8773e-01,  8.3296e-03,\n",
       "          7.8822e-02, -2.2972e-01, -2.3890e-01, -1.8042e-01,  1.2583e-01,\n",
       "         -7.6464e-01,  7.3410e-02,  2.1821e-01,  1.1476e-01,  2.6688e-01])}"
      ]
     },
     "execution_count": 25,
     "metadata": {},
     "output_type": "execute_result"
    }
   ],
   "source": [
    "form_input(\"fuck you you fucking fuck\", embeddings)"
   ]
  },
  {
   "cell_type": "markdown",
   "id": "f865d669",
   "metadata": {},
   "source": [
    "## Preprocessing: Model Outputs\n",
    "\n",
    "We need to transform the output label into vector representation (gold y). \n",
    "\n",
    "### Question: What is our gold "
   ]
  },
  {
   "cell_type": "code",
   "execution_count": 26,
   "id": "188fd769",
   "metadata": {},
   "outputs": [],
   "source": [
    "def form_output(example):\n",
    "    example['y'] = example['toxic']\n",
    "    return example"
   ]
  },
  {
   "cell_type": "code",
   "execution_count": 27,
   "id": "757e6d3b",
   "metadata": {
    "scrolled": true
   },
   "outputs": [
    {
     "data": {
      "text/plain": [
       "{'comment_text': \"Explanation\\nWhy the edits made under my username Hardcore Metallica Fan were reverted? They weren't vandalisms, just closure on some GAs after I voted at New York Dolls FAC. And please don't remove the template from the talk page since I'm retired now.89.205.38.27\",\n",
       " 'toxic': 0,\n",
       " 'severe_toxic': 0,\n",
       " 'obscene': 0,\n",
       " 'threat': 0,\n",
       " 'insult': 0,\n",
       " 'identity_hate': 0,\n",
       " 'x': tensor([-7.7702e-02,  2.4869e-02, -1.7935e-02, -3.1596e-02,  2.8198e-02,\n",
       "         -1.3214e-02, -5.8539e-02,  2.2593e-02,  9.9591e-02, -9.2103e-01,\n",
       "         -2.1298e-02,  1.7269e-02,  3.8579e-02,  4.8940e-02,  9.5054e-02,\n",
       "          1.5554e-01, -6.4634e-02,  5.1830e-02,  1.3312e-02,  6.0794e-03,\n",
       "          2.7822e-03,  1.5557e-01,  7.4313e-02,  3.4366e-02, -1.9350e-01,\n",
       "         -2.1065e-02,  3.6379e-02,  2.4771e-02,  3.4094e-02, -2.0115e-02,\n",
       "         -1.4539e-02,  5.3380e-02, -9.0018e-02,  1.3374e-01, -5.5156e-01,\n",
       "         -8.2663e-02, -2.5187e-02,  6.4417e-02, -4.8914e-03,  1.2492e-01,\n",
       "          4.7816e-02, -4.6201e-02, -4.7054e-02,  6.5071e-02,  1.0437e-01,\n",
       "          1.0473e-01,  4.9512e-02,  9.7196e-02, -1.2090e-01,  6.4834e-02,\n",
       "          7.1385e-02, -1.0335e-01, -6.1313e-02, -3.5654e-02, -2.4034e-02,\n",
       "          1.3430e-01,  2.3896e-02,  9.3184e-02,  1.2138e-01, -1.4497e-01,\n",
       "          7.5171e-02,  2.0701e-02,  9.6726e-02, -1.3433e-02, -6.2115e-03,\n",
       "         -2.2735e-01,  9.4530e-02,  3.0802e-02,  1.1068e-01, -6.5879e-02,\n",
       "          1.0698e-01, -1.0647e-02,  6.6890e-03,  1.0944e-01, -5.8848e-02,\n",
       "          5.0874e-02,  7.7294e-02,  9.2388e-02, -1.1546e-01, -9.1489e-02,\n",
       "         -1.1970e-01, -8.6266e-03,  9.8307e-02, -2.5677e-02,  4.3626e-02,\n",
       "          7.2710e-02, -7.0061e-02,  1.7258e-01,  6.4015e-02,  9.5522e-02,\n",
       "         -1.0145e-01,  3.2776e-02, -1.4905e-01, -1.0825e-01, -4.7442e-02,\n",
       "          7.1107e-02, -2.7546e-01, -5.7662e-02,  6.0285e-02, -2.2838e-01,\n",
       "          6.6297e-02, -9.9543e-03,  5.1538e-02, -1.6098e-02, -2.5778e-02,\n",
       "         -8.3072e-02,  4.1135e-02,  1.1772e-01, -7.8649e-02,  7.3079e-02,\n",
       "          6.4012e-02, -5.6964e-02, -1.1511e-01, -1.9245e-01,  3.1335e-02,\n",
       "          1.1139e-02, -9.0174e-02,  2.6594e-02,  3.0917e-02, -1.8031e-01,\n",
       "         -3.6480e-02, -1.4502e-02,  9.8505e-02,  7.8947e-02, -8.0135e-02,\n",
       "         -2.9278e-02, -2.6406e-02,  3.0730e-02,  7.9178e-02, -4.0400e-02,\n",
       "          6.4106e-02,  8.3451e-02,  6.8931e-02, -5.7311e-02,  8.5033e-03,\n",
       "          9.9489e-03, -2.1871e-02,  6.5561e-02,  1.4147e-02,  1.2448e-01,\n",
       "         -1.5156e-01, -3.0104e-02, -2.2896e-02,  7.1376e-02, -1.6635e-01,\n",
       "          1.6395e-02,  3.4235e-02,  7.4751e-02,  8.8756e-03, -4.2182e-03,\n",
       "          1.3175e-01, -5.0172e-02,  4.8847e-02, -6.0834e-02,  1.3856e-01,\n",
       "          2.3348e-02, -4.1669e-02, -6.7902e-02,  6.7798e-02, -4.8137e-02,\n",
       "          3.8416e-02, -2.4500e-02, -8.2429e-02, -5.1120e-02, -4.3470e-02,\n",
       "          1.3039e-01,  3.0860e-02,  9.8560e-02,  4.7800e-02, -1.7611e-02,\n",
       "          5.1423e-02,  9.4009e-03, -2.6579e-01,  3.5968e-02, -5.3938e-02,\n",
       "          1.8589e-03,  7.8023e-02,  9.3690e-02,  6.6371e-02,  2.6843e-01,\n",
       "          3.9170e-02,  1.0316e-01,  9.2024e-02,  3.9178e-02, -2.4866e-02,\n",
       "         -2.5177e-02, -4.5898e-04, -1.4441e-02,  1.6976e-01,  3.9623e-04,\n",
       "         -8.7991e-02,  8.0362e-02,  3.5393e-02, -7.0593e-03, -3.3698e-03,\n",
       "         -1.6731e-01, -4.9041e-02,  2.8155e-02,  9.0881e-02, -8.9170e-02,\n",
       "          6.3347e-01, -4.9225e-02,  8.8739e-02,  3.5556e-02,  8.4390e-02,\n",
       "          1.7544e-02, -2.6308e-02,  2.7531e-02, -3.7016e-02, -1.0177e-01,\n",
       "         -8.3880e-02, -6.2795e-02,  5.8918e-02,  2.8021e-02,  6.4295e-03,\n",
       "          6.3703e-02, -3.5289e-02,  8.7539e-02,  6.3429e-03,  5.9245e-02,\n",
       "          1.0313e-01, -3.2200e-02, -6.4779e-02,  9.3583e-02, -3.3103e-02,\n",
       "          3.8234e-02,  1.9530e-02,  4.0147e-02, -1.3758e-02, -9.5953e-02,\n",
       "          5.4646e-03, -1.8309e-02, -3.6476e-02, -1.9017e-01,  1.3036e-01,\n",
       "         -1.9387e-02,  1.0823e-01,  7.1332e-02, -9.6973e-02,  8.4934e-02,\n",
       "         -8.1090e-02, -9.2201e-02,  2.0630e-01,  1.3408e-01, -2.7194e-01,\n",
       "         -4.9769e-02,  4.6231e-02, -7.3905e-02, -4.7907e-02, -1.7000e-02,\n",
       "          4.1591e-02, -1.1960e-01,  1.6621e-02,  1.2397e-02,  1.8136e-01,\n",
       "          8.8893e-02, -8.2329e-03, -3.1399e-02,  7.8949e-02, -1.1693e-03,\n",
       "         -4.5969e-02, -3.7150e-02, -1.7276e-04, -4.7046e-02, -6.7260e-02,\n",
       "          2.8859e-02, -2.0867e-02,  4.0958e-02,  2.1477e-02,  6.0924e-02,\n",
       "         -2.2974e-02, -1.1766e-01,  8.2930e-02, -3.2317e-02, -3.7919e-02,\n",
       "          2.0144e-02, -1.2625e+00, -3.6526e-02,  2.0408e-01,  1.1345e-01,\n",
       "         -1.2265e-01,  1.2771e-02, -8.8338e-02,  4.4923e-02, -7.1906e-02,\n",
       "          1.2158e-01, -7.5680e-02,  4.3211e-02, -2.1212e-02, -2.7649e-02,\n",
       "         -2.8528e-02, -1.6684e-01, -1.2064e-02,  6.1818e-02,  1.0765e-01,\n",
       "          2.9012e-02,  4.3722e-02, -1.5308e-01, -3.6020e-02,  1.3391e-01]),\n",
       " 'y': 0}"
      ]
     },
     "execution_count": 27,
     "metadata": {},
     "output_type": "execute_result"
    }
   ],
   "source": [
    "form_output(sample)"
   ]
  },
  {
   "cell_type": "markdown",
   "id": "53abe894",
   "metadata": {},
   "source": [
    "# Building the Pytorch Model\n",
    "\n",
    "We have several decisions to make.\n",
    "\n",
    "- What is the shape of the input?\n",
    "- What is the shape of the output?\n",
    "- What form do we want the output to take? \n",
    "- How many layers do we want the model to have?\n",
    "- What activation function should we use at each layer?\n",
    "- Do we use dropout?\n",
    "\n"
   ]
  },
  {
   "cell_type": "markdown",
   "id": "cb42c308",
   "metadata": {},
   "source": [
    "We subclass nn.Module (which itself is a class and able to keep track of state). In this case, we want to create a class that holds our weights, bias, and method for the forward step. nn.Module has a number of attributes and methods (such as .parameters() and .zero_grad()) which we will be using.\n",
    "\n",
    "We also can store the loss function here as well.\n",
    "\n",
    "Here is an example FFNN.\n"
   ]
  },
  {
   "cell_type": "code",
   "execution_count": 93,
   "id": "a9e29833",
   "metadata": {},
   "outputs": [],
   "source": [
    "class FFNN(nn.Module):\n",
    "    \"\"\"\n",
    "    Defines the core neural network for doing binary classification over a single datapoint at a time. This consists\n",
    "    of matrix multiplication, tanh nonlinearity, another matrix multiplication, and then\n",
    "    a sigmoid layer to give the ouputs.\n",
    "\n",
    "    The forward() function does the important computation. The backward() method is inherited from nn.Module and\n",
    "    handles backpropagation.\n",
    "    \"\"\"\n",
    "    def __init__(self, word_embeddings, inp, hid, out):\n",
    "        \"\"\"\n",
    "        Constructs the computation graph by instantiating the various layers and initializing weights.\n",
    "\n",
    "        :param inp: size of input (integer)\n",
    "        :param hid: size of hidden layer(integer)\n",
    "        :param out: size of output (integer), which should be the number of classes\n",
    "        \"\"\"\n",
    "        super(FFNN, self).__init__()\n",
    "        self.V = nn.Linear(inp, hid)\n",
    "        self.g = nn.Tanh()\n",
    "        #self.g = nn.ReLU()\n",
    "        self.W = nn.Linear(hid, out)\n",
    "        self.sigmoid = nn.Sigmoid()\n",
    "        \n",
    "        # Initialize weights according to a formula due to Xavier Glorot.\n",
    "        nn.init.xavier_uniform_(self.V.weight)\n",
    "        nn.init.xavier_uniform_(self.W.weight)\n",
    "        \n",
    "        self.num_classes = out\n",
    "        self.loss = nn.BCELoss()\n",
    "        \n",
    "\n",
    "    def forward(self, x):\n",
    "        \"\"\"\n",
    "        Runs the neural network on the given data and returns log probabilities of the various classes.\n",
    "\n",
    "        :param x: a [inp]-sized tensor of input data\n",
    "        :return: an [out]-sized tensor of log probabilities. (In general your network can be set up to return either log\n",
    "        probabilities or a tuple of (loss, log probability) if you want to pass in y to this function as well\n",
    "        \"\"\"\n",
    "        \n",
    "        output = self.sigmoid(self.W(self.g(self.V(x))))\n",
    "        return output"
   ]
  },
  {
   "cell_type": "markdown",
   "id": "1ac6cee0",
   "metadata": {},
   "source": [
    "Since we’re now using an object instead of just using a function, we first have to instantiate our model\n",
    "\n",
    "- how many input dimensions does it have? output?"
   ]
  },
  {
   "cell_type": "code",
   "execution_count": 94,
   "id": "056b4d0c-8ac8-42b9-8782-e8899a278492",
   "metadata": {},
   "outputs": [
    {
     "data": {
      "text/plain": [
       "300"
      ]
     },
     "execution_count": 94,
     "metadata": {},
     "output_type": "execute_result"
    }
   ],
   "source": [
    "embeddings[0].size"
   ]
  },
  {
   "cell_type": "code",
   "execution_count": 95,
   "id": "a50ef9a6",
   "metadata": {},
   "outputs": [
    {
     "name": "stdout",
     "output_type": "stream",
     "text": [
      "FFNN(\n",
      "  (V): Linear(in_features=300, out_features=600, bias=True)\n",
      "  (g): Tanh()\n",
      "  (W): Linear(in_features=600, out_features=1, bias=True)\n",
      "  (sigmoid): Sigmoid()\n",
      "  (loss): BCELoss()\n",
      ")\n"
     ]
    }
   ],
   "source": [
    "dimensions = 300\n",
    "hidden = 600\n",
    "output = 1\n",
    "\n",
    "model = FFNN(embeddings, dimensions, hidden, output)\n",
    "print(model)"
   ]
  },
  {
   "cell_type": "markdown",
   "id": "15769922",
   "metadata": {},
   "source": [
    "let's run the forward function to compute the output"
   ]
  },
  {
   "cell_type": "code",
   "execution_count": 96,
   "id": "ae77c706",
   "metadata": {},
   "outputs": [
    {
     "name": "stdout",
     "output_type": "stream",
     "text": [
      "{'comment_text': \"Explanation\\nWhy the edits made under my username Hardcore Metallica Fan were reverted? They weren't vandalisms, just closure on some GAs after I voted at New York Dolls FAC. And please don't remove the template from the talk page since I'm retired now.89.205.38.27\", 'toxic': 0, 'severe_toxic': 0, 'obscene': 0, 'threat': 0, 'insult': 0, 'identity_hate': 0}\n"
     ]
    },
    {
     "data": {
      "text/plain": [
       "tensor([0.4779], grad_fn=<SigmoidBackward0>)"
      ]
     },
     "execution_count": 96,
     "metadata": {},
     "output_type": "execute_result"
    }
   ],
   "source": [
    "example = train[0]\n",
    "print(example)\n",
    "inp = form_input(example, embeddings)\n",
    "outp = model.forward(inp['x'])\n",
    "outp "
   ]
  },
  {
   "cell_type": "markdown",
   "id": "d88305dc",
   "metadata": {},
   "source": [
    "we can access the logits of the returned value"
   ]
  },
  {
   "cell_type": "code",
   "execution_count": 97,
   "id": "8d99d31b",
   "metadata": {},
   "outputs": [
    {
     "data": {
      "text/plain": [
       "tensor([0.4779])"
      ]
     },
     "execution_count": 97,
     "metadata": {},
     "output_type": "execute_result"
    }
   ],
   "source": [
    "outp.detach()"
   ]
  },
  {
   "cell_type": "markdown",
   "id": "ed30ae11",
   "metadata": {},
   "source": [
    "And we can change the PyTorch tensor to a Numpy array"
   ]
  },
  {
   "cell_type": "code",
   "execution_count": 98,
   "id": "00b59a5e",
   "metadata": {},
   "outputs": [
    {
     "data": {
      "text/plain": [
       "array([0.47790253], dtype=float32)"
      ]
     },
     "execution_count": 98,
     "metadata": {},
     "output_type": "execute_result"
    }
   ],
   "source": [
    "outp.detach().numpy()"
   ]
  },
  {
   "cell_type": "markdown",
   "id": "d40dc1bf",
   "metadata": {},
   "source": [
    "# Making Predictions\n",
    "\n",
    "The final layer is a continuous, differentiable function. It will predict a number between 0 and 1. But we want our output to be either 0 or 1 with no in between. How do we transform this output logit into a prediction?"
   ]
  },
  {
   "cell_type": "markdown",
   "id": "d2d2aca0",
   "metadata": {},
   "source": [
    "Write a function called predict() that will generate a prediction that is either a 0 or a 1"
   ]
  },
  {
   "cell_type": "code",
   "execution_count": 141,
   "id": "0c8ea42b",
   "metadata": {},
   "outputs": [
    {
     "name": "stdout",
     "output_type": "stream",
     "text": [
      "{'comment_text': \"Explanation\\nWhy the edits made under my username Hardcore Metallica Fan were reverted? They weren't vandalisms, just closure on some GAs after I voted at New York Dolls FAC. And please don't remove the template from the talk page since I'm retired now.89.205.38.27\", 'toxic': 0, 'severe_toxic': 0, 'obscene': 0, 'threat': 0, 'insult': 0, 'identity_hate': 0, 'x': tensor([-7.7702e-02,  2.4869e-02, -1.7935e-02, -3.1596e-02,  2.8198e-02,\n",
      "        -1.3214e-02, -5.8539e-02,  2.2593e-02,  9.9591e-02, -9.2103e-01,\n",
      "        -2.1298e-02,  1.7269e-02,  3.8579e-02,  4.8940e-02,  9.5054e-02,\n",
      "         1.5554e-01, -6.4634e-02,  5.1830e-02,  1.3312e-02,  6.0794e-03,\n",
      "         2.7822e-03,  1.5557e-01,  7.4313e-02,  3.4366e-02, -1.9350e-01,\n",
      "        -2.1065e-02,  3.6379e-02,  2.4771e-02,  3.4094e-02, -2.0115e-02,\n",
      "        -1.4539e-02,  5.3380e-02, -9.0018e-02,  1.3374e-01, -5.5156e-01,\n",
      "        -8.2663e-02, -2.5187e-02,  6.4417e-02, -4.8914e-03,  1.2492e-01,\n",
      "         4.7816e-02, -4.6201e-02, -4.7054e-02,  6.5071e-02,  1.0437e-01,\n",
      "         1.0473e-01,  4.9512e-02,  9.7196e-02, -1.2090e-01,  6.4834e-02,\n",
      "         7.1385e-02, -1.0335e-01, -6.1313e-02, -3.5654e-02, -2.4034e-02,\n",
      "         1.3430e-01,  2.3896e-02,  9.3184e-02,  1.2138e-01, -1.4497e-01,\n",
      "         7.5171e-02,  2.0701e-02,  9.6726e-02, -1.3433e-02, -6.2115e-03,\n",
      "        -2.2735e-01,  9.4530e-02,  3.0802e-02,  1.1068e-01, -6.5879e-02,\n",
      "         1.0698e-01, -1.0647e-02,  6.6890e-03,  1.0944e-01, -5.8848e-02,\n",
      "         5.0874e-02,  7.7294e-02,  9.2388e-02, -1.1546e-01, -9.1489e-02,\n",
      "        -1.1970e-01, -8.6266e-03,  9.8307e-02, -2.5677e-02,  4.3626e-02,\n",
      "         7.2710e-02, -7.0061e-02,  1.7258e-01,  6.4015e-02,  9.5522e-02,\n",
      "        -1.0145e-01,  3.2776e-02, -1.4905e-01, -1.0825e-01, -4.7442e-02,\n",
      "         7.1107e-02, -2.7546e-01, -5.7662e-02,  6.0285e-02, -2.2838e-01,\n",
      "         6.6297e-02, -9.9543e-03,  5.1538e-02, -1.6098e-02, -2.5778e-02,\n",
      "        -8.3072e-02,  4.1135e-02,  1.1772e-01, -7.8649e-02,  7.3079e-02,\n",
      "         6.4012e-02, -5.6964e-02, -1.1511e-01, -1.9245e-01,  3.1335e-02,\n",
      "         1.1139e-02, -9.0174e-02,  2.6594e-02,  3.0917e-02, -1.8031e-01,\n",
      "        -3.6480e-02, -1.4502e-02,  9.8505e-02,  7.8947e-02, -8.0135e-02,\n",
      "        -2.9278e-02, -2.6406e-02,  3.0730e-02,  7.9178e-02, -4.0400e-02,\n",
      "         6.4106e-02,  8.3451e-02,  6.8931e-02, -5.7311e-02,  8.5033e-03,\n",
      "         9.9489e-03, -2.1871e-02,  6.5561e-02,  1.4147e-02,  1.2448e-01,\n",
      "        -1.5156e-01, -3.0104e-02, -2.2896e-02,  7.1376e-02, -1.6635e-01,\n",
      "         1.6395e-02,  3.4235e-02,  7.4751e-02,  8.8756e-03, -4.2182e-03,\n",
      "         1.3175e-01, -5.0172e-02,  4.8847e-02, -6.0834e-02,  1.3856e-01,\n",
      "         2.3348e-02, -4.1669e-02, -6.7902e-02,  6.7798e-02, -4.8137e-02,\n",
      "         3.8416e-02, -2.4500e-02, -8.2429e-02, -5.1120e-02, -4.3470e-02,\n",
      "         1.3039e-01,  3.0860e-02,  9.8560e-02,  4.7800e-02, -1.7611e-02,\n",
      "         5.1423e-02,  9.4009e-03, -2.6579e-01,  3.5968e-02, -5.3938e-02,\n",
      "         1.8589e-03,  7.8023e-02,  9.3690e-02,  6.6371e-02,  2.6843e-01,\n",
      "         3.9170e-02,  1.0316e-01,  9.2024e-02,  3.9178e-02, -2.4866e-02,\n",
      "        -2.5177e-02, -4.5898e-04, -1.4441e-02,  1.6976e-01,  3.9623e-04,\n",
      "        -8.7991e-02,  8.0362e-02,  3.5393e-02, -7.0593e-03, -3.3698e-03,\n",
      "        -1.6731e-01, -4.9041e-02,  2.8155e-02,  9.0881e-02, -8.9170e-02,\n",
      "         6.3347e-01, -4.9225e-02,  8.8739e-02,  3.5556e-02,  8.4390e-02,\n",
      "         1.7544e-02, -2.6308e-02,  2.7531e-02, -3.7016e-02, -1.0177e-01,\n",
      "        -8.3880e-02, -6.2795e-02,  5.8918e-02,  2.8021e-02,  6.4295e-03,\n",
      "         6.3703e-02, -3.5289e-02,  8.7539e-02,  6.3429e-03,  5.9245e-02,\n",
      "         1.0313e-01, -3.2200e-02, -6.4779e-02,  9.3583e-02, -3.3103e-02,\n",
      "         3.8234e-02,  1.9530e-02,  4.0147e-02, -1.3758e-02, -9.5953e-02,\n",
      "         5.4646e-03, -1.8309e-02, -3.6476e-02, -1.9017e-01,  1.3036e-01,\n",
      "        -1.9387e-02,  1.0823e-01,  7.1332e-02, -9.6973e-02,  8.4934e-02,\n",
      "        -8.1090e-02, -9.2201e-02,  2.0630e-01,  1.3408e-01, -2.7194e-01,\n",
      "        -4.9769e-02,  4.6231e-02, -7.3905e-02, -4.7907e-02, -1.7000e-02,\n",
      "         4.1591e-02, -1.1960e-01,  1.6621e-02,  1.2397e-02,  1.8136e-01,\n",
      "         8.8893e-02, -8.2329e-03, -3.1399e-02,  7.8949e-02, -1.1693e-03,\n",
      "        -4.5969e-02, -3.7150e-02, -1.7276e-04, -4.7046e-02, -6.7260e-02,\n",
      "         2.8859e-02, -2.0867e-02,  4.0958e-02,  2.1477e-02,  6.0924e-02,\n",
      "        -2.2974e-02, -1.1766e-01,  8.2930e-02, -3.2317e-02, -3.7919e-02,\n",
      "         2.0144e-02, -1.2625e+00, -3.6526e-02,  2.0408e-01,  1.1345e-01,\n",
      "        -1.2265e-01,  1.2771e-02, -8.8338e-02,  4.4923e-02, -7.1906e-02,\n",
      "         1.2158e-01, -7.5680e-02,  4.3211e-02, -2.1212e-02, -2.7649e-02,\n",
      "        -2.8528e-02, -1.6684e-01, -1.2064e-02,  6.1818e-02,  1.0765e-01,\n",
      "         2.9012e-02,  4.3722e-02, -1.5308e-01, -3.6020e-02,  1.3391e-01])}\n"
     ]
    }
   ],
   "source": [
    "def predict(model, word_embeddings, example) -> int:\n",
    "    if model.forward(form_input(example, word_embeddings)['x']) >= 0.5:\n",
    "        return 1\n",
    "    else:\n",
    "        return 0\n",
    "        \n",
    "print(form_input(example, embeddings))"
   ]
  },
  {
   "cell_type": "code",
   "execution_count": 124,
   "id": "ed8e2ad2",
   "metadata": {},
   "outputs": [
    {
     "data": {
      "text/plain": [
       "1"
      ]
     },
     "execution_count": 124,
     "metadata": {},
     "output_type": "execute_result"
    }
   ],
   "source": [
    "output = predict(model, embeddings, \"fuck you you fucking fuck\")\n",
    "output"
   ]
  },
  {
   "cell_type": "markdown",
   "id": "578dd9d6",
   "metadata": {},
   "source": [
    "The model doesn't know what google means by toxicity. we have to train it"
   ]
  },
  {
   "cell_type": "markdown",
   "id": "a2b1fad5",
   "metadata": {},
   "source": [
    "# Evaluate"
   ]
  },
  {
   "cell_type": "markdown",
   "id": "9400af01",
   "metadata": {},
   "source": [
    "First, a way to evaluate the model performance on a whole bunch of predictions"
   ]
  },
  {
   "cell_type": "code",
   "execution_count": 126,
   "id": "9d146bb1",
   "metadata": {},
   "outputs": [],
   "source": [
    "def print_evaluation(golds, predictions):\n",
    "    \"\"\"\n",
    "    Prints evaluation statistics comparing golds and predictions, each of which is a sequence of 0/1 labels.\n",
    "    Prints accuracy as well as precision/recall/F1 of the positive class, which can sometimes be informative if either\n",
    "    the golds or predictions are highly biased.\n",
    "\n",
    "    :param golds: gold labels, list of ints\n",
    "    :param predictions: pred labels, list of ints\n",
    "    :return:\n",
    "    \"\"\"\n",
    "    \n",
    "    num_correct = 0\n",
    "    num_pos_correct = 0\n",
    "    num_pred = 0\n",
    "    num_gold = 0\n",
    "    num_total = 0\n",
    "    if len(golds) != len(predictions):\n",
    "        raise Exception(\"Mismatched gold/pred lengths: %i / %i\" % (len(golds), len(predictions)))\n",
    "    for idx in range(0, len(golds)):\n",
    "        gold = golds[idx]\n",
    "        #print(\"gold \", gold)\n",
    "        prediction = predictions[idx]\n",
    "        #print(\"prediction \", prediction)\n",
    "        if prediction == gold:\n",
    "            num_correct += 1\n",
    "        if prediction == 1:\n",
    "            num_pred += 1\n",
    "        if gold == 1:\n",
    "            num_gold += 1\n",
    "        if prediction == 1 and gold == 1:\n",
    "            num_pos_correct += 1\n",
    "        num_total += 1\n",
    "    acc = float(num_correct) / num_total\n",
    "    output_str = \"Accuracy: %i / %i = %f\" % (num_correct, num_total, acc)\n",
    "    prec = float(num_pos_correct) / num_pred if num_pred > 0 else 0.0\n",
    "    rec = float(num_pos_correct) / num_gold if num_gold > 0 else 0.0\n",
    "    f1 = 2 * prec * rec / (prec + rec) if prec > 0 and rec > 0 else 0.0\n",
    "    output_str += \";\\nPrecision (fraction of predicted positives that are correct): %i / %i = %f\" % (num_pos_correct, num_pred, prec)\n",
    "    output_str += \";\\nRecall (fraction of true positives predicted correctly): %i / %i = %f\" % (num_pos_correct, num_gold, rec)\n",
    "    output_str += \";\\nF1 (harmonic mean of precision and recall): %f;\\n\" % f1\n",
    "    print(output_str)\n",
    "    return acc, f1, output_str"
   ]
  },
  {
   "cell_type": "markdown",
   "id": "42818267",
   "metadata": {},
   "source": [
    "# Lab: Coding the Training Loop\n",
    "\n",
    "Your task will be to write the training loop for training the feed forward neural network.\n",
    "\n"
   ]
  },
  {
   "cell_type": "markdown",
   "id": "3c3bef02",
   "metadata": {},
   "source": [
    "### Get the data into the right shape"
   ]
  },
  {
   "cell_type": "markdown",
   "id": "ecb7f653",
   "metadata": {},
   "source": [
    "huggingface datasets has a .map() function that will alter our dataset in place. it asks for a function as its input.\n",
    "that function has to be of a particular type. in particular, it has to expect something of the same type as a single example (a dictionary) and return a dictionary. We define an anonymous function using a lambda expression that uses our form_input function. no need to worry about the details here unless you are interested because type calculus is sick and so are lambda expressions.\n"
   ]
  },
  {
   "cell_type": "code",
   "execution_count": 127,
   "id": "ab866c27",
   "metadata": {
    "scrolled": true
   },
   "outputs": [
    {
     "data": {
      "application/vnd.jupyter.widget-view+json": {
       "model_id": "4ac957eddf2642319274df555891f280",
       "version_major": 2,
       "version_minor": 0
      },
      "text/plain": [
       "Map:   0%|          | 0/159571 [00:00<?, ? examples/s]"
      ]
     },
     "metadata": {},
     "output_type": "display_data"
    },
    {
     "data": {
      "application/vnd.jupyter.widget-view+json": {
       "model_id": "4830d5cf6b104e59a661b5f34b9b7562",
       "version_major": 2,
       "version_minor": 0
      },
      "text/plain": [
       "Map:   0%|          | 0/63978 [00:00<?, ? examples/s]"
      ]
     },
     "metadata": {},
     "output_type": "display_data"
    },
    {
     "data": {
      "text/plain": [
       "{'comment_text': \"Explanation\\nWhy the edits made under my username Hardcore Metallica Fan were reverted? They weren't vandalisms, just closure on some GAs after I voted at New York Dolls FAC. And please don't remove the template from the talk page since I'm retired now.89.205.38.27\",\n",
       " 'toxic': 0,\n",
       " 'severe_toxic': 0,\n",
       " 'obscene': 0,\n",
       " 'threat': 0,\n",
       " 'insult': 0,\n",
       " 'identity_hate': 0,\n",
       " 'x': [-0.07770226150751114,\n",
       "  0.024869346991181374,\n",
       "  -0.017934849485754967,\n",
       "  -0.03159563988447189,\n",
       "  0.0281976405531168,\n",
       "  -0.013213724829256535,\n",
       "  -0.05853855982422829,\n",
       "  0.022592859342694283,\n",
       "  0.09959070384502411,\n",
       "  -0.9210320115089417,\n",
       "  -0.0212982427328825,\n",
       "  0.017269479110836983,\n",
       "  0.038579344749450684,\n",
       "  0.04893989861011505,\n",
       "  0.09505438059568405,\n",
       "  0.15553858876228333,\n",
       "  -0.06463400274515152,\n",
       "  0.05182996764779091,\n",
       "  0.013312440365552902,\n",
       "  0.006079380866140127,\n",
       "  0.0027821995317935944,\n",
       "  0.1555722951889038,\n",
       "  0.07431267946958542,\n",
       "  0.03436639904975891,\n",
       "  -0.19349905848503113,\n",
       "  -0.02106477878987789,\n",
       "  0.0363788865506649,\n",
       "  0.024770624935626984,\n",
       "  0.03409403935074806,\n",
       "  -0.020115012302994728,\n",
       "  -0.014539101161062717,\n",
       "  0.05338025838136673,\n",
       "  -0.09001792222261429,\n",
       "  0.13373786211013794,\n",
       "  -0.5515573620796204,\n",
       "  -0.08266262710094452,\n",
       "  -0.025186842307448387,\n",
       "  0.06441717594861984,\n",
       "  -0.004891410935670137,\n",
       "  0.12492257356643677,\n",
       "  0.04781569913029671,\n",
       "  -0.04620080068707466,\n",
       "  -0.04705426096916199,\n",
       "  0.06507128477096558,\n",
       "  0.10436679422855377,\n",
       "  0.10473278909921646,\n",
       "  0.04951157048344612,\n",
       "  0.09719569236040115,\n",
       "  -0.1208956390619278,\n",
       "  0.06483415514230728,\n",
       "  0.07138531655073166,\n",
       "  -0.10334856063127518,\n",
       "  -0.06131253018975258,\n",
       "  -0.035654131323099136,\n",
       "  -0.024034079164266586,\n",
       "  0.1342962682247162,\n",
       "  0.023895740509033203,\n",
       "  0.0931839719414711,\n",
       "  0.12137540429830551,\n",
       "  -0.14496801793575287,\n",
       "  0.07517053931951523,\n",
       "  0.020700639113783836,\n",
       "  0.09672583639621735,\n",
       "  -0.013433147221803665,\n",
       "  -0.006211462896317244,\n",
       "  -0.22734566032886505,\n",
       "  0.0945296362042427,\n",
       "  0.030802221968770027,\n",
       "  0.11067825555801392,\n",
       "  -0.06587918102741241,\n",
       "  0.10698231309652328,\n",
       "  -0.010647165589034557,\n",
       "  0.00668904185295105,\n",
       "  0.10944326221942902,\n",
       "  -0.0588478222489357,\n",
       "  0.05087374150753021,\n",
       "  0.07729368656873703,\n",
       "  0.09238756448030472,\n",
       "  -0.11545529216527939,\n",
       "  -0.09148905426263809,\n",
       "  -0.1197035014629364,\n",
       "  -0.008626621216535568,\n",
       "  0.09830727428197861,\n",
       "  -0.025677049532532692,\n",
       "  0.043625663965940475,\n",
       "  0.0727095901966095,\n",
       "  -0.07006072998046875,\n",
       "  0.17257647216320038,\n",
       "  0.06401540338993073,\n",
       "  0.09552209079265594,\n",
       "  -0.10145368427038193,\n",
       "  0.03277616202831268,\n",
       "  -0.1490546464920044,\n",
       "  -0.10825194418430328,\n",
       "  -0.04744249954819679,\n",
       "  0.07110734283924103,\n",
       "  -0.27545973658561707,\n",
       "  -0.05766209587454796,\n",
       "  0.06028539314866066,\n",
       "  -0.22837655246257782,\n",
       "  0.06629744917154312,\n",
       "  -0.009954254142940044,\n",
       "  0.05153808370232582,\n",
       "  -0.016098469495773315,\n",
       "  -0.02577754482626915,\n",
       "  -0.0830715149641037,\n",
       "  0.04113461822271347,\n",
       "  0.1177234947681427,\n",
       "  -0.07864942401647568,\n",
       "  0.07307882606983185,\n",
       "  0.06401227414608002,\n",
       "  -0.05696358159184456,\n",
       "  -0.11511211842298508,\n",
       "  -0.1924460232257843,\n",
       "  0.031335461884737015,\n",
       "  0.01113928109407425,\n",
       "  -0.09017445892095566,\n",
       "  0.02659440040588379,\n",
       "  0.03091716766357422,\n",
       "  -0.18031102418899536,\n",
       "  -0.03648030012845993,\n",
       "  -0.014501551166176796,\n",
       "  0.0985051766037941,\n",
       "  0.07894739508628845,\n",
       "  -0.0801352933049202,\n",
       "  -0.02927836775779724,\n",
       "  -0.026406079530715942,\n",
       "  0.030730336904525757,\n",
       "  0.0791783332824707,\n",
       "  -0.04039957374334335,\n",
       "  0.06410570442676544,\n",
       "  0.083450548350811,\n",
       "  0.0689307153224945,\n",
       "  -0.05731115862727165,\n",
       "  0.008503289893269539,\n",
       "  0.009948940016329288,\n",
       "  -0.021871430799365044,\n",
       "  0.06556066125631332,\n",
       "  0.014147351495921612,\n",
       "  0.12447721511125565,\n",
       "  -0.15156081318855286,\n",
       "  -0.030104326084256172,\n",
       "  -0.022896435111761093,\n",
       "  0.07137612253427505,\n",
       "  -0.16634529829025269,\n",
       "  0.01639486663043499,\n",
       "  0.03423510119318962,\n",
       "  0.07475055754184723,\n",
       "  0.008875580504536629,\n",
       "  -0.004218180663883686,\n",
       "  0.13175415992736816,\n",
       "  -0.05017179995775223,\n",
       "  0.048847224563360214,\n",
       "  -0.06083415821194649,\n",
       "  0.13855542242527008,\n",
       "  0.023347806185483932,\n",
       "  -0.04166942089796066,\n",
       "  -0.06790205091238022,\n",
       "  0.06779787689447403,\n",
       "  -0.04813702777028084,\n",
       "  0.0384158194065094,\n",
       "  -0.024499937891960144,\n",
       "  -0.0824291780591011,\n",
       "  -0.0511198453605175,\n",
       "  -0.043469686061143875,\n",
       "  0.1303914189338684,\n",
       "  0.03085978701710701,\n",
       "  0.09856033325195312,\n",
       "  0.047800213098526,\n",
       "  -0.017611198127269745,\n",
       "  0.0514230839908123,\n",
       "  0.009400900453329086,\n",
       "  -0.2657938301563263,\n",
       "  0.03596849367022514,\n",
       "  -0.05393751338124275,\n",
       "  0.0018588689854368567,\n",
       "  0.07802289724349976,\n",
       "  0.09369008243083954,\n",
       "  0.06637091934680939,\n",
       "  0.2684280574321747,\n",
       "  0.03916950896382332,\n",
       "  0.10315923392772675,\n",
       "  0.09202399849891663,\n",
       "  0.03917771577835083,\n",
       "  -0.024865759536623955,\n",
       "  -0.02517661452293396,\n",
       "  -0.00045897954259999096,\n",
       "  -0.014441382139921188,\n",
       "  0.16975750029087067,\n",
       "  0.0003962293267250061,\n",
       "  -0.08799143880605698,\n",
       "  0.0803622156381607,\n",
       "  0.035393305122852325,\n",
       "  -0.007059342227876186,\n",
       "  -0.0033698196057230234,\n",
       "  -0.16730746626853943,\n",
       "  -0.049041375517845154,\n",
       "  0.028154781088232994,\n",
       "  0.09088069945573807,\n",
       "  -0.08917008340358734,\n",
       "  0.6334729790687561,\n",
       "  -0.04922470822930336,\n",
       "  0.08873942494392395,\n",
       "  0.03555600717663765,\n",
       "  0.08438992500305176,\n",
       "  0.017543939873576164,\n",
       "  -0.02630826085805893,\n",
       "  0.027530701830983162,\n",
       "  -0.0370163768529892,\n",
       "  -0.10177478939294815,\n",
       "  -0.08388017117977142,\n",
       "  -0.06279519945383072,\n",
       "  0.05891804024577141,\n",
       "  0.02802121825516224,\n",
       "  0.006429501809179783,\n",
       "  0.06370340287685394,\n",
       "  -0.03528893366456032,\n",
       "  0.08753874897956848,\n",
       "  0.0063429479487240314,\n",
       "  0.05924529582262039,\n",
       "  0.10313244163990021,\n",
       "  -0.03220038115978241,\n",
       "  -0.0647786408662796,\n",
       "  0.09358299523591995,\n",
       "  -0.033103395253419876,\n",
       "  0.03823423013091087,\n",
       "  0.01952953450381756,\n",
       "  0.04014670103788376,\n",
       "  -0.013757728971540928,\n",
       "  -0.09595285356044769,\n",
       "  0.005464560352265835,\n",
       "  -0.018308859318494797,\n",
       "  -0.03647629916667938,\n",
       "  -0.19016706943511963,\n",
       "  0.13035805523395538,\n",
       "  -0.019387122243642807,\n",
       "  0.10823432356119156,\n",
       "  0.07133215665817261,\n",
       "  -0.09697321802377701,\n",
       "  0.08493418991565704,\n",
       "  -0.0810903012752533,\n",
       "  -0.09220068156719208,\n",
       "  0.20629598200321198,\n",
       "  0.13407506048679352,\n",
       "  -0.27194148302078247,\n",
       "  -0.04976923018693924,\n",
       "  0.04623115062713623,\n",
       "  -0.0739050954580307,\n",
       "  -0.04790743812918663,\n",
       "  -0.01700000651180744,\n",
       "  0.04159080609679222,\n",
       "  -0.11960092186927795,\n",
       "  0.016621150076389313,\n",
       "  0.012397099286317825,\n",
       "  0.1813592165708542,\n",
       "  0.08889254182577133,\n",
       "  -0.00823290552943945,\n",
       "  -0.03139854222536087,\n",
       "  0.07894899696111679,\n",
       "  -0.0011692555854097009,\n",
       "  -0.0459694005548954,\n",
       "  -0.0371495746076107,\n",
       "  -0.00017276231665164232,\n",
       "  -0.047045838087797165,\n",
       "  -0.06725980341434479,\n",
       "  0.028858650475740433,\n",
       "  -0.020867299288511276,\n",
       "  0.04095763713121414,\n",
       "  0.02147696726024151,\n",
       "  0.060924313962459564,\n",
       "  -0.022974299266934395,\n",
       "  -0.11766289919614792,\n",
       "  0.08292984217405319,\n",
       "  -0.032316725701093674,\n",
       "  -0.03791932389140129,\n",
       "  0.02014406956732273,\n",
       "  -1.2625328302383423,\n",
       "  -0.03652561083436012,\n",
       "  0.20408013463020325,\n",
       "  0.11344615370035172,\n",
       "  -0.1226508617401123,\n",
       "  0.012771081179380417,\n",
       "  -0.08833831548690796,\n",
       "  0.04492319002747536,\n",
       "  -0.07190588861703873,\n",
       "  0.1215815618634224,\n",
       "  -0.07568028569221497,\n",
       "  0.04321052134037018,\n",
       "  -0.021212005987763405,\n",
       "  -0.027649443596601486,\n",
       "  -0.02852816879749298,\n",
       "  -0.16684222221374512,\n",
       "  -0.012063849717378616,\n",
       "  0.06181842088699341,\n",
       "  0.10765384137630463,\n",
       "  0.029011966660618782,\n",
       "  0.04372159019112587,\n",
       "  -0.1530836522579193,\n",
       "  -0.03602009266614914,\n",
       "  0.13390833139419556]}"
      ]
     },
     "execution_count": 127,
     "metadata": {},
     "output_type": "execute_result"
    }
   ],
   "source": [
    "dataset = dataset.map(lambda ex: form_input(ex, embeddings))\n",
    "dataset['train'][0]"
   ]
  },
  {
   "cell_type": "markdown",
   "id": "0512b34e",
   "metadata": {},
   "source": [
    "now our dataset has an extra column with vector representations of each example. we do this once ahead of time rather than on the fly because we will iterate through our training and dev sets many times, and we don't want waste time running form_input over and over"
   ]
  },
  {
   "cell_type": "markdown",
   "id": "d02c085b",
   "metadata": {},
   "source": [
    "We do the same thing with form_output. clearly, we didnt need separate functions, but it helps to separate our thinking"
   ]
  },
  {
   "cell_type": "code",
   "execution_count": 128,
   "id": "937a6998",
   "metadata": {
    "scrolled": true
   },
   "outputs": [
    {
     "data": {
      "application/vnd.jupyter.widget-view+json": {
       "model_id": "02a2ebc799c74a5dafd551468e3c7a9c",
       "version_major": 2,
       "version_minor": 0
      },
      "text/plain": [
       "Map:   0%|          | 0/159571 [00:00<?, ? examples/s]"
      ]
     },
     "metadata": {},
     "output_type": "display_data"
    },
    {
     "data": {
      "application/vnd.jupyter.widget-view+json": {
       "model_id": "9ae5d6e07e68474b83e5b1df849cfe07",
       "version_major": 2,
       "version_minor": 0
      },
      "text/plain": [
       "Map:   0%|          | 0/63978 [00:00<?, ? examples/s]"
      ]
     },
     "metadata": {},
     "output_type": "display_data"
    },
    {
     "data": {
      "text/plain": [
       "{'comment_text': \"Explanation\\nWhy the edits made under my username Hardcore Metallica Fan were reverted? They weren't vandalisms, just closure on some GAs after I voted at New York Dolls FAC. And please don't remove the template from the talk page since I'm retired now.89.205.38.27\",\n",
       " 'toxic': 0,\n",
       " 'severe_toxic': 0,\n",
       " 'obscene': 0,\n",
       " 'threat': 0,\n",
       " 'insult': 0,\n",
       " 'identity_hate': 0,\n",
       " 'x': [-0.07770226150751114,\n",
       "  0.024869346991181374,\n",
       "  -0.017934849485754967,\n",
       "  -0.03159563988447189,\n",
       "  0.0281976405531168,\n",
       "  -0.013213724829256535,\n",
       "  -0.05853855982422829,\n",
       "  0.022592859342694283,\n",
       "  0.09959070384502411,\n",
       "  -0.9210320115089417,\n",
       "  -0.0212982427328825,\n",
       "  0.017269479110836983,\n",
       "  0.038579344749450684,\n",
       "  0.04893989861011505,\n",
       "  0.09505438059568405,\n",
       "  0.15553858876228333,\n",
       "  -0.06463400274515152,\n",
       "  0.05182996764779091,\n",
       "  0.013312440365552902,\n",
       "  0.006079380866140127,\n",
       "  0.0027821995317935944,\n",
       "  0.1555722951889038,\n",
       "  0.07431267946958542,\n",
       "  0.03436639904975891,\n",
       "  -0.19349905848503113,\n",
       "  -0.02106477878987789,\n",
       "  0.0363788865506649,\n",
       "  0.024770624935626984,\n",
       "  0.03409403935074806,\n",
       "  -0.020115012302994728,\n",
       "  -0.014539101161062717,\n",
       "  0.05338025838136673,\n",
       "  -0.09001792222261429,\n",
       "  0.13373786211013794,\n",
       "  -0.5515573620796204,\n",
       "  -0.08266262710094452,\n",
       "  -0.025186842307448387,\n",
       "  0.06441717594861984,\n",
       "  -0.004891410935670137,\n",
       "  0.12492257356643677,\n",
       "  0.04781569913029671,\n",
       "  -0.04620080068707466,\n",
       "  -0.04705426096916199,\n",
       "  0.06507128477096558,\n",
       "  0.10436679422855377,\n",
       "  0.10473278909921646,\n",
       "  0.04951157048344612,\n",
       "  0.09719569236040115,\n",
       "  -0.1208956390619278,\n",
       "  0.06483415514230728,\n",
       "  0.07138531655073166,\n",
       "  -0.10334856063127518,\n",
       "  -0.06131253018975258,\n",
       "  -0.035654131323099136,\n",
       "  -0.024034079164266586,\n",
       "  0.1342962682247162,\n",
       "  0.023895740509033203,\n",
       "  0.0931839719414711,\n",
       "  0.12137540429830551,\n",
       "  -0.14496801793575287,\n",
       "  0.07517053931951523,\n",
       "  0.020700639113783836,\n",
       "  0.09672583639621735,\n",
       "  -0.013433147221803665,\n",
       "  -0.006211462896317244,\n",
       "  -0.22734566032886505,\n",
       "  0.0945296362042427,\n",
       "  0.030802221968770027,\n",
       "  0.11067825555801392,\n",
       "  -0.06587918102741241,\n",
       "  0.10698231309652328,\n",
       "  -0.010647165589034557,\n",
       "  0.00668904185295105,\n",
       "  0.10944326221942902,\n",
       "  -0.0588478222489357,\n",
       "  0.05087374150753021,\n",
       "  0.07729368656873703,\n",
       "  0.09238756448030472,\n",
       "  -0.11545529216527939,\n",
       "  -0.09148905426263809,\n",
       "  -0.1197035014629364,\n",
       "  -0.008626621216535568,\n",
       "  0.09830727428197861,\n",
       "  -0.025677049532532692,\n",
       "  0.043625663965940475,\n",
       "  0.0727095901966095,\n",
       "  -0.07006072998046875,\n",
       "  0.17257647216320038,\n",
       "  0.06401540338993073,\n",
       "  0.09552209079265594,\n",
       "  -0.10145368427038193,\n",
       "  0.03277616202831268,\n",
       "  -0.1490546464920044,\n",
       "  -0.10825194418430328,\n",
       "  -0.04744249954819679,\n",
       "  0.07110734283924103,\n",
       "  -0.27545973658561707,\n",
       "  -0.05766209587454796,\n",
       "  0.06028539314866066,\n",
       "  -0.22837655246257782,\n",
       "  0.06629744917154312,\n",
       "  -0.009954254142940044,\n",
       "  0.05153808370232582,\n",
       "  -0.016098469495773315,\n",
       "  -0.02577754482626915,\n",
       "  -0.0830715149641037,\n",
       "  0.04113461822271347,\n",
       "  0.1177234947681427,\n",
       "  -0.07864942401647568,\n",
       "  0.07307882606983185,\n",
       "  0.06401227414608002,\n",
       "  -0.05696358159184456,\n",
       "  -0.11511211842298508,\n",
       "  -0.1924460232257843,\n",
       "  0.031335461884737015,\n",
       "  0.01113928109407425,\n",
       "  -0.09017445892095566,\n",
       "  0.02659440040588379,\n",
       "  0.03091716766357422,\n",
       "  -0.18031102418899536,\n",
       "  -0.03648030012845993,\n",
       "  -0.014501551166176796,\n",
       "  0.0985051766037941,\n",
       "  0.07894739508628845,\n",
       "  -0.0801352933049202,\n",
       "  -0.02927836775779724,\n",
       "  -0.026406079530715942,\n",
       "  0.030730336904525757,\n",
       "  0.0791783332824707,\n",
       "  -0.04039957374334335,\n",
       "  0.06410570442676544,\n",
       "  0.083450548350811,\n",
       "  0.0689307153224945,\n",
       "  -0.05731115862727165,\n",
       "  0.008503289893269539,\n",
       "  0.009948940016329288,\n",
       "  -0.021871430799365044,\n",
       "  0.06556066125631332,\n",
       "  0.014147351495921612,\n",
       "  0.12447721511125565,\n",
       "  -0.15156081318855286,\n",
       "  -0.030104326084256172,\n",
       "  -0.022896435111761093,\n",
       "  0.07137612253427505,\n",
       "  -0.16634529829025269,\n",
       "  0.01639486663043499,\n",
       "  0.03423510119318962,\n",
       "  0.07475055754184723,\n",
       "  0.008875580504536629,\n",
       "  -0.004218180663883686,\n",
       "  0.13175415992736816,\n",
       "  -0.05017179995775223,\n",
       "  0.048847224563360214,\n",
       "  -0.06083415821194649,\n",
       "  0.13855542242527008,\n",
       "  0.023347806185483932,\n",
       "  -0.04166942089796066,\n",
       "  -0.06790205091238022,\n",
       "  0.06779787689447403,\n",
       "  -0.04813702777028084,\n",
       "  0.0384158194065094,\n",
       "  -0.024499937891960144,\n",
       "  -0.0824291780591011,\n",
       "  -0.0511198453605175,\n",
       "  -0.043469686061143875,\n",
       "  0.1303914189338684,\n",
       "  0.03085978701710701,\n",
       "  0.09856033325195312,\n",
       "  0.047800213098526,\n",
       "  -0.017611198127269745,\n",
       "  0.0514230839908123,\n",
       "  0.009400900453329086,\n",
       "  -0.2657938301563263,\n",
       "  0.03596849367022514,\n",
       "  -0.05393751338124275,\n",
       "  0.0018588689854368567,\n",
       "  0.07802289724349976,\n",
       "  0.09369008243083954,\n",
       "  0.06637091934680939,\n",
       "  0.2684280574321747,\n",
       "  0.03916950896382332,\n",
       "  0.10315923392772675,\n",
       "  0.09202399849891663,\n",
       "  0.03917771577835083,\n",
       "  -0.024865759536623955,\n",
       "  -0.02517661452293396,\n",
       "  -0.00045897954259999096,\n",
       "  -0.014441382139921188,\n",
       "  0.16975750029087067,\n",
       "  0.0003962293267250061,\n",
       "  -0.08799143880605698,\n",
       "  0.0803622156381607,\n",
       "  0.035393305122852325,\n",
       "  -0.007059342227876186,\n",
       "  -0.0033698196057230234,\n",
       "  -0.16730746626853943,\n",
       "  -0.049041375517845154,\n",
       "  0.028154781088232994,\n",
       "  0.09088069945573807,\n",
       "  -0.08917008340358734,\n",
       "  0.6334729790687561,\n",
       "  -0.04922470822930336,\n",
       "  0.08873942494392395,\n",
       "  0.03555600717663765,\n",
       "  0.08438992500305176,\n",
       "  0.017543939873576164,\n",
       "  -0.02630826085805893,\n",
       "  0.027530701830983162,\n",
       "  -0.0370163768529892,\n",
       "  -0.10177478939294815,\n",
       "  -0.08388017117977142,\n",
       "  -0.06279519945383072,\n",
       "  0.05891804024577141,\n",
       "  0.02802121825516224,\n",
       "  0.006429501809179783,\n",
       "  0.06370340287685394,\n",
       "  -0.03528893366456032,\n",
       "  0.08753874897956848,\n",
       "  0.0063429479487240314,\n",
       "  0.05924529582262039,\n",
       "  0.10313244163990021,\n",
       "  -0.03220038115978241,\n",
       "  -0.0647786408662796,\n",
       "  0.09358299523591995,\n",
       "  -0.033103395253419876,\n",
       "  0.03823423013091087,\n",
       "  0.01952953450381756,\n",
       "  0.04014670103788376,\n",
       "  -0.013757728971540928,\n",
       "  -0.09595285356044769,\n",
       "  0.005464560352265835,\n",
       "  -0.018308859318494797,\n",
       "  -0.03647629916667938,\n",
       "  -0.19016706943511963,\n",
       "  0.13035805523395538,\n",
       "  -0.019387122243642807,\n",
       "  0.10823432356119156,\n",
       "  0.07133215665817261,\n",
       "  -0.09697321802377701,\n",
       "  0.08493418991565704,\n",
       "  -0.0810903012752533,\n",
       "  -0.09220068156719208,\n",
       "  0.20629598200321198,\n",
       "  0.13407506048679352,\n",
       "  -0.27194148302078247,\n",
       "  -0.04976923018693924,\n",
       "  0.04623115062713623,\n",
       "  -0.0739050954580307,\n",
       "  -0.04790743812918663,\n",
       "  -0.01700000651180744,\n",
       "  0.04159080609679222,\n",
       "  -0.11960092186927795,\n",
       "  0.016621150076389313,\n",
       "  0.012397099286317825,\n",
       "  0.1813592165708542,\n",
       "  0.08889254182577133,\n",
       "  -0.00823290552943945,\n",
       "  -0.03139854222536087,\n",
       "  0.07894899696111679,\n",
       "  -0.0011692555854097009,\n",
       "  -0.0459694005548954,\n",
       "  -0.0371495746076107,\n",
       "  -0.00017276231665164232,\n",
       "  -0.047045838087797165,\n",
       "  -0.06725980341434479,\n",
       "  0.028858650475740433,\n",
       "  -0.020867299288511276,\n",
       "  0.04095763713121414,\n",
       "  0.02147696726024151,\n",
       "  0.060924313962459564,\n",
       "  -0.022974299266934395,\n",
       "  -0.11766289919614792,\n",
       "  0.08292984217405319,\n",
       "  -0.032316725701093674,\n",
       "  -0.03791932389140129,\n",
       "  0.02014406956732273,\n",
       "  -1.2625328302383423,\n",
       "  -0.03652561083436012,\n",
       "  0.20408013463020325,\n",
       "  0.11344615370035172,\n",
       "  -0.1226508617401123,\n",
       "  0.012771081179380417,\n",
       "  -0.08833831548690796,\n",
       "  0.04492319002747536,\n",
       "  -0.07190588861703873,\n",
       "  0.1215815618634224,\n",
       "  -0.07568028569221497,\n",
       "  0.04321052134037018,\n",
       "  -0.021212005987763405,\n",
       "  -0.027649443596601486,\n",
       "  -0.02852816879749298,\n",
       "  -0.16684222221374512,\n",
       "  -0.012063849717378616,\n",
       "  0.06181842088699341,\n",
       "  0.10765384137630463,\n",
       "  0.029011966660618782,\n",
       "  0.04372159019112587,\n",
       "  -0.1530836522579193,\n",
       "  -0.03602009266614914,\n",
       "  0.13390833139419556],\n",
       " 'y': 0}"
      ]
     },
     "execution_count": 128,
     "metadata": {},
     "output_type": "execute_result"
    }
   ],
   "source": [
    "dataset = dataset.map(lambda ex: form_output(ex))\n",
    "dataset['train'][0]"
   ]
  },
  {
   "cell_type": "markdown",
   "id": "35cf65fd",
   "metadata": {},
   "source": [
    "### Dataset Split"
   ]
  },
  {
   "cell_type": "markdown",
   "id": "6eef4e97",
   "metadata": {},
   "source": [
    "Remember, the data are already split into train and test sets. "
   ]
  },
  {
   "cell_type": "markdown",
   "id": "33883612",
   "metadata": {},
   "source": [
    "It's normal to have a third small data split called val (validate) or dev, that we use to evaluate the model while the training loop is running. Then, at the end of training, we evaluate on the test set. The dev set can be used to do things like choose **hyperparameters** for the model---we can't use the test set for this because then we'd be 'cheating'"
   ]
  },
  {
   "cell_type": "code",
   "execution_count": 129,
   "id": "80c0bca1",
   "metadata": {},
   "outputs": [
    {
     "name": "stdout",
     "output_type": "stream",
     "text": [
      "159571 / 63978 / 63978 train/dev/test examples\n"
     ]
    }
   ],
   "source": [
    "# load training data\n",
    "\n",
    "train = dataset['train']\n",
    "dev = dataset['test']\n",
    "test = dataset['test']\n",
    "\n",
    "print(repr(len(train)) + \" / \" + repr(len(dev)) + \" / \" + repr(len(test)) + \" train/dev/test examples\")\n"
   ]
  },
  {
   "cell_type": "markdown",
   "id": "06cd0b46",
   "metadata": {},
   "source": [
    "Let's set the model hyperparameters. "
   ]
  },
  {
   "cell_type": "code",
   "execution_count": 130,
   "id": "62cddb81",
   "metadata": {},
   "outputs": [],
   "source": [
    "# set hyperparameters\n",
    "\n",
    "num_epochs = 10\n",
    "hidden_size = 200\n",
    "initial_learning_rate = 0.1"
   ]
  },
  {
   "cell_type": "markdown",
   "id": "e7360659",
   "metadata": {},
   "source": [
    "We initialize a model and an optimizer"
   ]
  },
  {
   "cell_type": "code",
   "execution_count": 131,
   "id": "340faf7a",
   "metadata": {},
   "outputs": [],
   "source": [
    "ffnn = FFNN(embeddings, embeddings.vector_size, hidden_size, 1)\n",
    "optimizer = optim.Adam(ffnn.parameters(), lr=initial_learning_rate)"
   ]
  },
  {
   "cell_type": "markdown",
   "id": "a87b21cb",
   "metadata": {},
   "source": [
    "Next we need to code the actual training loop. This loop will run through the training data for a set number of epochs. In each epoch, it should iterate through all of the training examples. Ideally, it will do this in a random order every time. You should run the example through the model, calculate the loss, and then use the loss to run the backward step. **be sure to zero out the gradients before calling the forward step!!** This is done with `ffnn.zero_grad()` Our loss function is stored in the FFNN object, and can be called using `ffnn.loss()`. The backpropagation step is run on the loss, i.e. `loss.backward()` (where `loss` is the loss computed at this time step). At the end of each epoch, the"
   ]
  },
  {
   "cell_type": "code",
   "execution_count": 168,
   "id": "82f1ff3b",
   "metadata": {},
   "outputs": [
    {
     "name": "stdout",
     "output_type": "stream",
     "text": [
      "Total Loss: 3000\n",
      "Number of Epochs: 10\n"
     ]
    }
   ],
   "source": [
    "## training loop for toxicity classification\n",
    "\n",
    "def training_loop(model, embeddings, input, epochs):\n",
    "    total_loss = 0\n",
    "    \n",
    "    for i in range(epochs):\n",
    "        indices = [i for i in range(len(input))]\n",
    "        random.shuffle(indices)\n",
    "\n",
    "        model.train()\n",
    "        \n",
    "        for j in indices:\n",
    "\n",
    "            x = torch.Tensor(train[j]['x'])   \n",
    "            y = train[j]['y']\n",
    "            y = torch.from_numpy(np.asarray(y,dtype=np.float32)).unsqueeze(-1)\n",
    "            \n",
    "            model.zero_grad()\n",
    "            output = model.forward(x)\n",
    "            loss = model.loss(output, y)\n",
    "            total_loss += loss\n",
    "            loss.backward()\n",
    "            optimizer.step()\n",
    "\n",
    "    print('Total Loss: %d\\nNumber of Epochs: %d' % (total_loss, epochs))\n",
    "\n",
    "            \n",
    "    \n",
    "training_loop(ffnn, embeddings, 'fuck you you fucking fuck', 10)\n"
   ]
  },
  {
   "cell_type": "markdown",
   "id": "9403bf68",
   "metadata": {},
   "source": [
    "# Make Predictions"
   ]
  },
  {
   "cell_type": "markdown",
   "id": "7e74115e",
   "metadata": {},
   "source": [
    "Let's use the model to make some predictions:"
   ]
  },
  {
   "cell_type": "code",
   "execution_count": 157,
   "id": "9eca2e04",
   "metadata": {},
   "outputs": [
    {
     "data": {
      "text/plain": [
       "0"
      ]
     },
     "execution_count": 157,
     "metadata": {},
     "output_type": "execute_result"
    }
   ],
   "source": [
    "predict(ffnn, embeddings, \"fuck you you fucking fuck\")"
   ]
  },
  {
   "cell_type": "markdown",
   "id": "11baa63f",
   "metadata": {},
   "source": [
    "# Improving the Model with Features\n",
    "\n",
    "This works okay. How can we get better performance? See if you can improve the model to X F1 score. You could try using different embeddings. You could change the model itself, adding more layers or trying a different activation function. You could add dropout after one of the layers (this takes one line to implement with pytorch, but you might have to look up about what it is or how it's used). You can also add hand-crafted features in addition to the embeddings to serve as input. This is a very common strategy and usually helps a lot."
   ]
  },
  {
   "cell_type": "markdown",
   "id": "2983a42a",
   "metadata": {},
   "source": [
    "Instead of just representing the input as word embeddings, we can represent the input as a vector of word embeddings concatenated with additional dimensions that encode other variables we are interested in. The features can be real-valued, like: how many tokens are in the example? what's the average word length? Features can also be binary, like: does the sentence contain a question mark? \n",
    "\n",
    "For example, s length. Here is a new form_input that adds an average word length feature and a contains X feature"
   ]
  },
  {
   "cell_type": "code",
   "execution_count": null,
   "id": "f330ae86",
   "metadata": {},
   "outputs": [],
   "source": [
    "def extract_features(tokens):\n",
    "    question = 1 if True else 0\n",
    "    features = {\n",
    "        \"avg_word_length\": np.mean([len(t) for t in tokens]),\n",
    "        \"contains_q\": 1 if \"?\" in tokens else 0\n",
    "    }\n",
    "    return features\n",
    "\n",
    "def form_input_updated(example, word_embeddings):\n",
    "    \"\"\"\n",
    "    :example: training example from huggingface dataset in the form of a dictionary, e.g.\n",
    "    \n",
    "    {'comment_text': '\"\\nAnd ... I really don\\'t think you understand.  I came here and my idea was bad right away.  What kind of community goes \"\"you have bad ideas\"\" go away, instead of helping rewrite them.   \"',\n",
    "     'toxic': 0,\n",
    "     'severe_toxic': 0,\n",
    "     'obscene': 0,\n",
    "     'threat': 0,\n",
    "     'insult': 0,\n",
    "     'identity_hate': 0}\n",
    "\n",
    "    returns a dictionary with a new key, x, which maps to a vector representing the comment\n",
    "    \"\"\"\n",
    "    \n",
    "    if isinstance(example, str):\n",
    "        tokens = tokenize(example)\n",
    "        example = {} # dummy input dict\n",
    "    else:\n",
    "        tokens = tokenize(example['comment_text'])\n",
    "\n",
    "    vecs = []\n",
    "    for word in tokens:\n",
    "        try:\n",
    "            vec = word_embeddings[word]\n",
    "        except KeyError: # this token is not in our embeddings dictionary\n",
    "            vec = np.zeros(word_embeddings.vector_size)\n",
    "        vecs.append(vec)\n",
    "    \n",
    "    centroid = np.mean(vecs, axis=0)\n",
    "    \n",
    "    \n",
    "    features_dict = extract_features(tokens)\n",
    "    features_list = list(features_dict.values())\n",
    "    \n",
    "    final_vector = np.append(centroid, features_list, axis=0)\n",
    "    \n",
    "    # we need torch form which is a tensor, not a numpy array\n",
    "    \n",
    "    torch_tensor = torch.from_numpy(final_vector).float()\n",
    "    example['x'] = torch_tensor\n",
    "    return example\n",
    "    "
   ]
  },
  {
   "cell_type": "code",
   "execution_count": null,
   "id": "a024e655",
   "metadata": {},
   "outputs": [],
   "source": [
    "form_input_updated(\"hello my name is fhwfhjwhfjwklfjwj4klwfkl?\", embeddings)"
   ]
  },
  {
   "cell_type": "code",
   "execution_count": null,
   "id": "0f6102e0",
   "metadata": {},
   "outputs": [],
   "source": [
    "# re-form our inputs, make a new model and train that one. \n",
    "\n",
    "ffnn = FFNN(embeddings, embeddings.vector_size, hidden_size, 1)\n",
    "optimizer = optim.Adam(ffnn.parameters(), lr=initial_learning_rate)\n",
    "\n",
    "dataset = dataset.map(lambda ex: form_input_updated(ex, embeddings))\n"
   ]
  },
  {
   "cell_type": "code",
   "execution_count": null,
   "id": "7f1487e0",
   "metadata": {},
   "outputs": [],
   "source": [
    "dataset['train'][0][\"x\"]"
   ]
  },
  {
   "cell_type": "code",
   "execution_count": null,
   "id": "a6a3a7ca",
   "metadata": {},
   "outputs": [],
   "source": [
    "## training loop for toxicity classification\n",
    "\n",
    "\n",
    "\n",
    "for epoch in range(0, num_epochs):\n",
    "    ex_indices = [i for i in range(0, len(train))]\n",
    "    random.shuffle(ex_indices)\n",
    "    total_loss = 0.0\n",
    "    \n",
    "    ffnn.train()\n",
    "    for idx in ex_indices:\n",
    "        \n",
    "        # prepare input (x) and gold toxicity label (y) as torch Tensors\n",
    "        \n",
    "        x = torch.Tensor(train[idx]['x'])   \n",
    "        y = train[idx]['y']\n",
    "        y = torch.from_numpy(np.asarray(y,dtype=np.float32)).unsqueeze(-1)\n",
    "        \n",
    "        # Zero out the gradients from the FFNN object. *THIS IS VERY IMPORTANT TO DO BEFORE CALLING BACKWARD()*\n",
    "        ffnn.zero_grad()\n",
    "        y_hat = ffnn.forward(x)\n",
    "        \n",
    "        # Can also use built-in NLLLoss as a shortcut here but we're being explicit here\n",
    "        loss = ffnn.loss(y_hat, y)\n",
    "        total_loss += loss\n",
    "        \n",
    "        # Computes the gradient and takes the optimizer step\n",
    "        loss.backward()\n",
    "        optimizer.step()\n",
    "    print(\"Total loss on epoch %s: %f\" % (epoch, total_loss))\n",
    "    \n",
    "    ffnn.eval()\n",
    "    dev_y_hats = [predict(ffnn, embeddings, ex['comment_text']) for ex in dev]\n",
    "    print_evaluation(dev['y'], dev_y_hats)\n",
    "\n"
   ]
  },
  {
   "cell_type": "markdown",
   "id": "b90d4418",
   "metadata": {},
   "source": [
    "# Appendix: Example Training Loop\n",
    "\n",
    "Here is an example training loop for learning the XOR function"
   ]
  },
  {
   "cell_type": "code",
   "execution_count": null,
   "id": "1c1d222f",
   "metadata": {},
   "outputs": [],
   "source": [
    "# MAKE THE DATA\n",
    "# Synthetic data for XOR: y = x1 XOR x2\n",
    "train_xs = np.array([[0, 0], [0, 1], [1, 0], [1, 1]], dtype=np.float32)\n",
    "train_ys = np.array([0, 1, 1, 0], dtype=np.float32)\n",
    "\n",
    "# Define some constants\n",
    "# Inputs are of size 2\n",
    "feat_vec_size = 2\n",
    "\n",
    "# Let's use 4 hidden units\n",
    "embedding_size = 4\n",
    "\n",
    "# We're using 2 classes. What's presented here is multi-class code that can scale to more classes, though\n",
    "# slightly more compact code for the binary case is possible.\n",
    "num_classes = 1\n",
    "\n",
    "\n",
    "# set hyperparameters\n",
    "num_epochs = 100\n",
    "ffnn = FFNN(feat_vec_size, embedding_size, num_classes)\n",
    "initial_learning_rate = 0.1\n",
    "optimizer = optim.Adam(ffnn.parameters(), lr=initial_learning_rate)\n",
    "\n",
    "\n",
    "# RUN TRAINING\n",
    "for epoch in range(0, num_epochs):\n",
    "    \n",
    "    ex_indices = [i for i in range(0, len(train_xs))]\n",
    "    random.shuffle(ex_indices)\n",
    "    total_loss = 0.0\n",
    "\n",
    "    for idx in ex_indices:\n",
    "        x =  torch.from_numpy(train_xs[idx]).float()\n",
    "        y = train_ys[idx]\n",
    "        y = torch.from_numpy(np.asarray(y,dtype=np.float32)).unsqueeze(-1)\n",
    "\n",
    "        # Build one-hot representation of y. Instead of the label 0 or 1, y_onehot is either [0, 1] or [1, 0]. This\n",
    "        # way we can take the dot product directly with a probability vector to get class probabilities.\n",
    "        #y_onehot = torch.zeros(num_classes)\n",
    "        \n",
    "        # scatter will write the value of 1 into the position of y_onehot given by y\n",
    "        #y_onehot.scatter_(0, torch.from_numpy(np.asarray(y,dtype=np.int64)), 1)\n",
    "        # Zero out the gradients from the FFNN object. *THIS IS VERY IMPORTANT TO DO BEFORE CALLING BACKWARD()*\n",
    "        ffnn.zero_grad()\n",
    "        log_probs = ffnn.forward(x)\n",
    "        \n",
    "        print(x)\n",
    "        print(log_probs)\n",
    "        print(y)\n",
    "        \n",
    "        # Can also use built-in NLLLoss as a shortcut here but we're being explicit here\n",
    "        loss = ffnn.loss(log_probs, y)\n",
    "        \n",
    "        total_loss += loss\n",
    "        # Computes the gradient and takes the optimizer step\n",
    "        loss.backward()\n",
    "        optimizer.step()\n",
    "    print(\"Total loss on epoch %i: %f\" % (epoch, total_loss))\n",
    "    \n",
    "\n",
    "# Evaluate on the train set\n",
    "# RUN TRAINING AND TEST\n",
    "\n",
    "train_correct = 0\n",
    "for idx in range(0, len(train_xs)):\n",
    "    x = torch.from_numpy(train_xs[idx]).float()\n",
    "    y = train_ys[idx]\n",
    "    log_probs = ffnn.forward(x)\n",
    "    prediction = 1 if log_probs > 0.5 else 0\n",
    "    if y == prediction:\n",
    "        train_correct += 1\n",
    "    print(\"Example \" + repr(train_xs[idx]) + \"; gold = \" + repr(train_ys[idx]) + \"; pred = \" +\\\n",
    "          repr(prediction) + \" with probs \" + repr(log_probs))\n",
    "print(repr(train_correct) + \"/\" + repr(len(train_ys)) + \" correct after training\")"
   ]
  },
  {
   "cell_type": "markdown",
   "id": "58df9554",
   "metadata": {},
   "source": [
    "# References\n",
    "\n",
    "- https://vijaygadepalli.medium.com/toxic-comments-classification-696603741872\n",
    "    "
   ]
  }
 ],
 "metadata": {
  "kernelspec": {
   "display_name": "Python 3 (ipykernel)",
   "language": "python",
   "name": "python3"
  },
  "language_info": {
   "codemirror_mode": {
    "name": "ipython",
    "version": 3
   },
   "file_extension": ".py",
   "mimetype": "text/x-python",
   "name": "python",
   "nbconvert_exporter": "python",
   "pygments_lexer": "ipython3",
   "version": "3.11.4"
  }
 },
 "nbformat": 4,
 "nbformat_minor": 5
}
